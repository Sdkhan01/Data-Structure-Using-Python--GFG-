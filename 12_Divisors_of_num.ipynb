{
 "cells": [
  {
   "cell_type": "code",
   "execution_count": 1,
   "id": "initial_id",
   "metadata": {
    "collapsed": true,
    "ExecuteTime": {
     "end_time": "2024-05-13T04:20:08.215223700Z",
     "start_time": "2024-05-13T04:20:04.875790400Z"
    }
   },
   "outputs": [
    {
     "name": "stdout",
     "output_type": "stream",
     "text": [
      "[1, 2, 4, 5, 10, 20, 25, 50, 100]\n"
     ]
    }
   ],
   "source": [
    "sum = []\n",
    "n = int(input(\"Enter a number: \"))\n",
    "for i in range(1,n+1):\n",
    "    if n%i == 0:\n",
    "        sum.append(i)\n",
    "print(sum)"
   ]
  },
  {
   "cell_type": "code",
   "outputs": [],
   "source": [
    "## Or\n",
    "\n",
    "def divisors(n):\n",
    "    for i in range(1,n+1):\n",
    "        if(n%i==0):\n",
    "            print(i)"
   ],
   "metadata": {
    "collapsed": false,
    "ExecuteTime": {
     "end_time": "2024-05-13T04:22:56.681924300Z",
     "start_time": "2024-05-13T04:22:56.661330900Z"
    }
   },
   "id": "99741ea0025a778e",
   "execution_count": 2
  },
  {
   "cell_type": "code",
   "outputs": [
    {
     "name": "stdout",
     "output_type": "stream",
     "text": [
      "1\n",
      "2\n",
      "5\n",
      "10\n"
     ]
    }
   ],
   "source": [
    "divisors(10)"
   ],
   "metadata": {
    "collapsed": false,
    "ExecuteTime": {
     "end_time": "2024-05-13T04:22:59.615289700Z",
     "start_time": "2024-05-13T04:22:59.564940Z"
    }
   },
   "id": "d35c94ea0c900dcf",
   "execution_count": 3
  },
  {
   "cell_type": "markdown",
   "source": [
    "### Effiecient way :\n",
    "### 1-time complexity is O(sqrt(n))\n",
    "### 2-auxiliary space is O(1)"
   ],
   "metadata": {
    "collapsed": false
   },
   "id": "a1e2d660568a159c"
  },
  {
   "cell_type": "code",
   "outputs": [
    {
     "name": "stdout",
     "output_type": "stream",
     "text": [
      "1\n",
      "111\n",
      "3\n",
      "37\n"
     ]
    }
   ],
   "source": [
    "def print_divisors(n):\n",
    "    i =1\n",
    "    while(i*i<=n):\n",
    "        if(n%i==0):\n",
    "            print(i)\n",
    "            if(i!= n//i):\n",
    "                print(n//i)\n",
    "        i+=1\n",
    "print_divisors(111)"
   ],
   "metadata": {
    "collapsed": false,
    "ExecuteTime": {
     "end_time": "2024-05-13T04:49:11.818641400Z",
     "start_time": "2024-05-13T04:49:11.801167400Z"
    }
   },
   "id": "ca86e5e1b56181a7",
   "execution_count": 7
  },
  {
   "cell_type": "code",
   "outputs": [
    {
     "name": "stdout",
     "output_type": "stream",
     "text": [
      "1 111\n",
      "3 37\n"
     ]
    }
   ],
   "source": [
    "def print_div(n):\n",
    "    i =1\n",
    "    while(i*i<=n):\n",
    "        if(n%i==0):\n",
    "            if(i==n//i):\n",
    "                print(i)\n",
    "            else:\n",
    "                print(i,n//i)\n",
    "        i+=1\n",
    "print_div(111)"
   ],
   "metadata": {
    "collapsed": false,
    "ExecuteTime": {
     "end_time": "2024-05-13T04:58:53.773201300Z",
     "start_time": "2024-05-13T04:58:53.754254Z"
    }
   },
   "id": "8176ebff33b76c00",
   "execution_count": 8
  },
  {
   "cell_type": "code",
   "outputs": [
    {
     "name": "stdout",
     "output_type": "stream",
     "text": [
      "1\n",
      "3\n",
      "37.0\n",
      "111.0\n"
     ]
    }
   ],
   "source": [
    "##Efficient and sorted way\n",
    "##Best case\n",
    "\n",
    "def print_div(n):\n",
    "    i = 1\n",
    "    while(i*i<n):\n",
    "        if n%i==0:\n",
    "            print(i)\n",
    "        i+=1\n",
    "    while(i>=1):\n",
    "        if n%i==0:\n",
    "            print(n/i)\n",
    "        i= i-1\n",
    "print_div(111)\n",
    "    \n",
    "    "
   ],
   "metadata": {
    "collapsed": false,
    "ExecuteTime": {
     "end_time": "2024-05-13T05:35:31.714559200Z",
     "start_time": "2024-05-13T05:35:31.706730600Z"
    }
   },
   "id": "959abd2dbe04f5c1",
   "execution_count": 10
  },
  {
   "cell_type": "code",
   "outputs": [],
   "source": [],
   "metadata": {
    "collapsed": false
   },
   "id": "bf397e1824857405"
  }
 ],
 "metadata": {
  "kernelspec": {
   "display_name": "Python 3",
   "language": "python",
   "name": "python3"
  },
  "language_info": {
   "codemirror_mode": {
    "name": "ipython",
    "version": 2
   },
   "file_extension": ".py",
   "mimetype": "text/x-python",
   "name": "python",
   "nbconvert_exporter": "python",
   "pygments_lexer": "ipython2",
   "version": "2.7.6"
  }
 },
 "nbformat": 4,
 "nbformat_minor": 5
}
