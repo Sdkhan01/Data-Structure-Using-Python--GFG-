{
 "cells": [
  {
   "cell_type": "code",
   "execution_count": 1,
   "id": "initial_id",
   "metadata": {
    "collapsed": true,
    "ExecuteTime": {
     "end_time": "2024-06-11T13:06:44.718079700Z",
     "start_time": "2024-06-11T13:06:44.706081300Z"
    }
   },
   "outputs": [],
   "source": [
    "## 1 to n"
   ]
  },
  {
   "cell_type": "code",
   "outputs": [
    {
     "name": "stdout",
     "output_type": "stream",
     "text": [
      "1\n",
      "2\n",
      "3\n"
     ]
    }
   ],
   "source": [
    "def p1to_n(n):\n",
    "    if n ==0:\n",
    "        return\n",
    "    p1to_n(n-1)\n",
    "    print(n)\n",
    "p1to_n(3)"
   ],
   "metadata": {
    "collapsed": false,
    "ExecuteTime": {
     "end_time": "2024-06-11T13:08:09.615808500Z",
     "start_time": "2024-06-11T13:08:09.595969200Z"
    }
   },
   "id": "cac6cd51d18444a6",
   "execution_count": 2
  },
  {
   "cell_type": "code",
   "outputs": [
    {
     "name": "stdout",
     "output_type": "stream",
     "text": [
      "4\n",
      "3\n",
      "2\n",
      "1\n"
     ]
    }
   ],
   "source": [
    "## n to 1\n",
    "def n_to_1(n):\n",
    "    if n<=0:\n",
    "        return\n",
    "    print(n)\n",
    "    n_to_1(n-1)\n",
    "n_to_1(4)"
   ],
   "metadata": {
    "collapsed": false,
    "ExecuteTime": {
     "end_time": "2024-06-11T13:12:16.101445300Z",
     "start_time": "2024-06-11T13:12:16.086786700Z"
    }
   },
   "id": "59494fec94744099",
   "execution_count": 9
  },
  {
   "cell_type": "code",
   "outputs": [
    {
     "name": "stdout",
     "output_type": "stream",
     "text": [
      "6\n"
     ]
    }
   ],
   "source": [
    "## sum of n natural numbers\n",
    "def sum_n(n):\n",
    "    if n==0:\n",
    "        return 0\n",
    "    return n+sum_n(n-1)\n",
    "print(sum_n(3))"
   ],
   "metadata": {
    "collapsed": false,
    "ExecuteTime": {
     "end_time": "2024-06-11T13:09:22.334519200Z",
     "start_time": "2024-06-11T13:09:22.305609500Z"
    }
   },
   "id": "a7a4ffd4a8192417",
   "execution_count": 4
  },
  {
   "cell_type": "code",
   "outputs": [],
   "source": [],
   "metadata": {
    "collapsed": false
   },
   "id": "fab72e8362ebbd5f"
  }
 ],
 "metadata": {
  "kernelspec": {
   "display_name": "Python 3",
   "language": "python",
   "name": "python3"
  },
  "language_info": {
   "codemirror_mode": {
    "name": "ipython",
    "version": 2
   },
   "file_extension": ".py",
   "mimetype": "text/x-python",
   "name": "python",
   "nbconvert_exporter": "python",
   "pygments_lexer": "ipython2",
   "version": "2.7.6"
  }
 },
 "nbformat": 4,
 "nbformat_minor": 5
}
