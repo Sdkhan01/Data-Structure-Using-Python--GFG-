{
 "cells": [
  {
   "cell_type": "code",
   "execution_count": 1,
   "id": "initial_id",
   "metadata": {
    "collapsed": true,
    "ExecuteTime": {
     "end_time": "2024-06-11T11:55:43.517723400Z",
     "start_time": "2024-06-11T11:55:43.508299100Z"
    }
   },
   "outputs": [],
   "source": [
    "## Recursion Practice\n"
   ]
  },
  {
   "cell_type": "code",
   "outputs": [
    {
     "name": "stdout",
     "output_type": "stream",
     "text": [
      "3\n",
      "2\n",
      "1\n",
      "1\n",
      "2\n",
      "3\n"
     ]
    }
   ],
   "source": [
    "def fun(n):\n",
    "    if n == 0:\n",
    "        return\n",
    "    print(n)\n",
    "    fun(n-1)\n",
    "    print(n)\n",
    "fun(3)"
   ],
   "metadata": {
    "collapsed": false,
    "ExecuteTime": {
     "end_time": "2024-06-11T11:58:43.876741900Z",
     "start_time": "2024-06-11T11:58:43.865044200Z"
    }
   },
   "id": "3f6d7886a6d4dd40",
   "execution_count": 2
  },
  {
   "cell_type": "code",
   "outputs": [
    {
     "data": {
      "text/plain": "7"
     },
     "execution_count": 18,
     "metadata": {},
     "output_type": "execute_result"
    }
   ],
   "source": [
    "## Sum of digit using recusrion \n",
    "\n",
    "def dsum(n):\n",
    "    if n ==0:\n",
    "        return 0\n",
    "    return dsum(n//10) + n%10\n",
    "dsum(151)"
   ],
   "metadata": {
    "collapsed": false,
    "ExecuteTime": {
     "end_time": "2024-06-11T12:58:52.036904900Z",
     "start_time": "2024-06-11T12:58:52.023851800Z"
    }
   },
   "id": "816fe5bd8c560ef5",
   "execution_count": 18
  },
  {
   "cell_type": "code",
   "outputs": [
    {
     "data": {
      "text/plain": "5"
     },
     "execution_count": 19,
     "metadata": {},
     "output_type": "execute_result"
    }
   ],
   "source": [
    "def dsum2(n):\n",
    "    if n<10:\n",
    "        return n\n",
    "    return dsum2(n//10) + n%10\n",
    "dsum2(5)"
   ],
   "metadata": {
    "collapsed": false,
    "ExecuteTime": {
     "end_time": "2024-06-11T12:58:53.099581500Z",
     "start_time": "2024-06-11T12:58:53.077038300Z"
    }
   },
   "id": "2bb8ac15c41025c5",
   "execution_count": 19
  },
  {
   "cell_type": "code",
   "outputs": [],
   "source": [],
   "metadata": {
    "collapsed": false
   },
   "id": "76cc8d2660764a6c"
  }
 ],
 "metadata": {
  "kernelspec": {
   "display_name": "Python 3",
   "language": "python",
   "name": "python3"
  },
  "language_info": {
   "codemirror_mode": {
    "name": "ipython",
    "version": 2
   },
   "file_extension": ".py",
   "mimetype": "text/x-python",
   "name": "python",
   "nbconvert_exporter": "python",
   "pygments_lexer": "ipython2",
   "version": "2.7.6"
  }
 },
 "nbformat": 4,
 "nbformat_minor": 5
}
