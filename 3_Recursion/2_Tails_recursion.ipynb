{
 "cells": [
  {
   "cell_type": "code",
   "execution_count": 1,
   "id": "initial_id",
   "metadata": {
    "collapsed": true,
    "ExecuteTime": {
     "end_time": "2024-06-11T11:09:15.415780Z",
     "start_time": "2024-06-11T11:09:15.402067300Z"
    }
   },
   "outputs": [],
   "source": [
    "## Tail recursion"
   ]
  },
  {
   "cell_type": "code",
   "outputs": [
    {
     "name": "stdout",
     "output_type": "stream",
     "text": [
      "5 4 3 2 1 "
     ]
    }
   ],
   "source": [
    "def fun(n):\n",
    "    if n == 0:\n",
    "        return\n",
    "    print(n,end=' ')\n",
    "    fun(n-1)\n",
    "fun(5)"
   ],
   "metadata": {
    "collapsed": false,
    "ExecuteTime": {
     "end_time": "2024-06-11T11:45:22.849751100Z",
     "start_time": "2024-06-11T11:45:22.841379100Z"
    }
   },
   "id": "ce45a1105498d835",
   "execution_count": 2
  },
  {
   "cell_type": "code",
   "outputs": [],
   "source": [
    "#Converting into while loop"
   ],
   "metadata": {
    "collapsed": false
   },
   "id": "aed912af7b2d574d"
  },
  {
   "cell_type": "code",
   "outputs": [],
   "source": [
    "\n",
    "def fun(n):\n",
    "    while n>0:\n",
    "        print(n,end = ' ') #end = ' ' is used to print the output in the same line\n",
    "        n = n-1"
   ],
   "metadata": {
    "collapsed": false,
    "ExecuteTime": {
     "end_time": "2024-06-11T11:46:59.869803500Z",
     "start_time": "2024-06-11T11:46:59.852444200Z"
    }
   },
   "id": "2ba307a9f5c30ab2",
   "execution_count": 3
  },
  {
   "cell_type": "code",
   "outputs": [],
   "source": [],
   "metadata": {
    "collapsed": false
   },
   "id": "6882598bc8905c0a"
  }
 ],
 "metadata": {
  "kernelspec": {
   "display_name": "Python 3",
   "language": "python",
   "name": "python3"
  },
  "language_info": {
   "codemirror_mode": {
    "name": "ipython",
    "version": 2
   },
   "file_extension": ".py",
   "mimetype": "text/x-python",
   "name": "python",
   "nbconvert_exporter": "python",
   "pygments_lexer": "ipython2",
   "version": "2.7.6"
  }
 },
 "nbformat": 4,
 "nbformat_minor": 5
}
