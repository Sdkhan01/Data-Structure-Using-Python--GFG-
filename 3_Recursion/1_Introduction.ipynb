{
 "cells": [
  {
   "cell_type": "code",
   "execution_count": 1,
   "id": "initial_id",
   "metadata": {
    "collapsed": true,
    "ExecuteTime": {
     "end_time": "2024-06-11T06:18:37.789692300Z",
     "start_time": "2024-06-11T06:18:37.770402800Z"
    }
   },
   "outputs": [],
   "source": [
    "### Introduction to recursion\n"
   ]
  },
  {
   "cell_type": "code",
   "outputs": [],
   "source": [
    "# Recursion is a technique in programming where a function calls itself in order to solve a problem.\n",
    "# Recursion is used to solve problems that can be broken down into smaller, repetitive problems.\n",
    "# The base case is the condition that stops the recursion. Without a base case, the function would run indefinitely.\n",
    "# The base case is the simplest form of the problem that can be solved directly.\n",
    "# The recursive case is the condition that allows the function to call itself with a modified input.\n",
    "# The recursive case is the condition that allows the function to call itself with a modified input.\n",
    "# The recursive case is the condition that allows the function to call itself with a modified input."
   ],
   "metadata": {
    "collapsed": false,
    "ExecuteTime": {
     "end_time": "2024-06-11T06:19:13.763760700Z",
     "start_time": "2024-06-11T06:19:13.752014Z"
    }
   },
   "id": "15d055ec9d62bd9a",
   "execution_count": 2
  },
  {
   "cell_type": "code",
   "outputs": [
    {
     "name": "stdout",
     "output_type": "stream",
     "text": [
      "Gfg\n",
      "Gfg\n",
      "Gfg\n",
      "Gfg\n",
      "Gfg\n"
     ]
    }
   ],
   "source": [
    "## Example of a recursive function\n",
    "\n",
    "def fun(n):\n",
    "    if n ==0: \n",
    "        return #without this line, the function will run indefinitely, if n = 0, the function will stop\n",
    "    print(\"Gfg\")\n",
    "    fun(n-1)\n",
    "fun(5)"
   ],
   "metadata": {
    "collapsed": false,
    "ExecuteTime": {
     "end_time": "2024-06-11T06:20:15.200904500Z",
     "start_time": "2024-06-11T06:20:15.192282900Z"
    }
   },
   "id": "6ab928897c2a1933",
   "execution_count": 4
  },
  {
   "cell_type": "code",
   "outputs": [
    {
     "name": "stdout",
     "output_type": "stream",
     "text": [
      "gfg\n",
      "gfg\n",
      "gfg\n",
      "gfg\n",
      "gfg\n"
     ]
    }
   ],
   "source": [
    "def fun(n):\n",
    "    if n <= 0:\n",
    "        return\n",
    "    print(\"gfg\")\n",
    "    fun(n-1) #recursive case\n",
    "fun(5)"
   ],
   "metadata": {
    "collapsed": false,
    "ExecuteTime": {
     "end_time": "2024-06-11T08:10:39.480332900Z",
     "start_time": "2024-06-11T08:10:39.470420200Z"
    }
   },
   "id": "bb97ea3131ba4dca",
   "execution_count": 6
  },
  {
   "cell_type": "code",
   "outputs": [
    {
     "data": {
      "text/plain": "24"
     },
     "execution_count": 1,
     "metadata": {},
     "output_type": "execute_result"
    }
   ],
   "source": [
    "def fact(n):\n",
    "    if n ==0:\n",
    "        return 0\n",
    "    return(n*fact(n-1))\n",
    "fact(4)"
   ],
   "metadata": {
    "collapsed": false,
    "ExecuteTime": {
     "end_time": "2024-06-11T10:34:07.693313800Z",
     "start_time": "2024-06-11T10:34:07.671155200Z"
    }
   },
   "id": "edad8d7320ff5f13",
   "execution_count": 1
  },
  {
   "cell_type": "code",
   "outputs": [
    {
     "data": {
      "text/plain": "3"
     },
     "execution_count": 7,
     "metadata": {},
     "output_type": "execute_result"
    }
   ],
   "source": [
    "def fib(n):\n",
    "    if n==0:\n",
    "        return 0\n",
    "    if n==1:\n",
    "        return 1\n",
    "    return fib(n-1) + fib(n-2)\n",
    "fib(4) \n",
    "#fib(4) = fib(3) + fib(2) = fib(2) + fib(1) + fib(1) + fib(0) = 1 + 0 + 1 + 1 + 0 = 3"
   ],
   "metadata": {
    "collapsed": false,
    "ExecuteTime": {
     "end_time": "2024-06-11T10:41:46.700582500Z",
     "start_time": "2024-06-11T10:41:46.679155700Z"
    }
   },
   "id": "a872a0e97c639bc",
   "execution_count": 7
  },
  {
   "cell_type": "code",
   "outputs": [],
   "source": [],
   "metadata": {
    "collapsed": false
   },
   "id": "c6a0cb7751d03cd7"
  }
 ],
 "metadata": {
  "kernelspec": {
   "display_name": "Python 3",
   "language": "python",
   "name": "python3"
  },
  "language_info": {
   "codemirror_mode": {
    "name": "ipython",
    "version": 2
   },
   "file_extension": ".py",
   "mimetype": "text/x-python",
   "name": "python",
   "nbconvert_exporter": "python",
   "pygments_lexer": "ipython2",
   "version": "2.7.6"
  }
 },
 "nbformat": 4,
 "nbformat_minor": 5
}
