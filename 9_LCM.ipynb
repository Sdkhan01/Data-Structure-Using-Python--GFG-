{
 "cells": [
  {
   "cell_type": "markdown",
   "source": [
    "### Naive approach to solve "
   ],
   "metadata": {
    "collapsed": false
   },
   "id": "319cec0f72394376"
  },
  {
   "cell_type": "code",
   "outputs": [
    {
     "data": {
      "text/plain": "60"
     },
     "execution_count": 3,
     "metadata": {},
     "output_type": "execute_result"
    }
   ],
   "source": [
    "def lcm(a, b):\n",
    "    res = max(a,b)\n",
    "    while True:\n",
    "        if res % a == 0 and res % b == 0:\n",
    "            return res\n",
    "        res += 1\n",
    "    return res\n",
    "lcm(15, 20)"
   ],
   "metadata": {
    "collapsed": false,
    "ExecuteTime": {
     "end_time": "2024-05-12T11:56:35.862100500Z",
     "start_time": "2024-05-12T11:56:35.830184500Z"
    }
   },
   "id": "d0400d486991aa07",
   "execution_count": 3
  },
  {
   "cell_type": "markdown",
   "source": [
    "### efficient approach to solve"
   ],
   "metadata": {
    "collapsed": false
   },
   "id": "88f01d5149d92ac3"
  },
  {
   "cell_type": "code",
   "outputs": [
    {
     "data": {
      "text/plain": "60"
     },
     "execution_count": 4,
     "metadata": {},
     "output_type": "execute_result"
    }
   ],
   "source": [
    "def gcd(a,b):\n",
    "    if b==0:\n",
    "        return a\n",
    "    return gcd(b,a%b)\n",
    "def lcm(a,b):\n",
    "    return a*b//gcd(a,b)\n",
    "lcm(15,20)"
   ],
   "metadata": {
    "collapsed": false,
    "ExecuteTime": {
     "end_time": "2024-05-12T12:05:12.977153600Z",
     "start_time": "2024-05-12T12:05:12.940246100Z"
    }
   },
   "id": "4f1f78c08787f4ce",
   "execution_count": 4
  },
  {
   "cell_type": "code",
   "outputs": [],
   "source": [],
   "metadata": {
    "collapsed": false
   },
   "id": "b617526b7d0e5da0"
  }
 ],
 "metadata": {
  "kernelspec": {
   "display_name": "Python 3",
   "language": "python",
   "name": "python3"
  },
  "language_info": {
   "codemirror_mode": {
    "name": "ipython",
    "version": 2
   },
   "file_extension": ".py",
   "mimetype": "text/x-python",
   "name": "python",
   "nbconvert_exporter": "python",
   "pygments_lexer": "ipython2",
   "version": "2.7.6"
  }
 },
 "nbformat": 4,
 "nbformat_minor": 5
}
