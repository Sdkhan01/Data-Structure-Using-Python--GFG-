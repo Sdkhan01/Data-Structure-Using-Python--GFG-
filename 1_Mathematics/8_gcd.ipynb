{
 "cells": [
  {
   "cell_type": "markdown",
   "source": [
    "# Greatest Common Divisor\n",
    "# \\recursive method"
   ],
   "metadata": {
    "collapsed": false
   },
   "id": "128df63e0931323c"
  },
  {
   "cell_type": "code",
   "execution_count": 2,
   "id": "initial_id",
   "metadata": {
    "collapsed": true,
    "ExecuteTime": {
     "end_time": "2024-05-12T11:28:31.066665300Z",
     "start_time": "2024-05-12T11:28:31.030763600Z"
    }
   },
   "outputs": [
    {
     "data": {
      "text/plain": "5"
     },
     "execution_count": 2,
     "metadata": {},
     "output_type": "execute_result"
    }
   ],
   "source": [
    "def gcd(a, b):\n",
    "    if b == 0:\n",
    "        return a\n",
    "    return gcd(b, a % b)\n",
    "gcd(45,65)"
   ]
  },
  {
   "cell_type": "markdown",
   "source": [
    "# / Euclidean Algorithm"
   ],
   "metadata": {
    "collapsed": false
   },
   "id": "8d63ada25a01deeb"
  },
  {
   "cell_type": "code",
   "outputs": [
    {
     "data": {
      "text/plain": "5"
     },
     "execution_count": 3,
     "metadata": {},
     "output_type": "execute_result"
    }
   ],
   "source": [
    "def gcd(a,b):\n",
    "    while a!=b:\n",
    "        if a>b:\n",
    "            a = a-b\n",
    "        else:\n",
    "            b = b-a\n",
    "    return a #we can also return b\n",
    "gcd(45,65)"
   ],
   "metadata": {
    "collapsed": false,
    "ExecuteTime": {
     "end_time": "2024-05-12T11:39:47.274455900Z",
     "start_time": "2024-05-12T11:39:47.225526700Z"
    }
   },
   "id": "c5e5665b1665ff5c",
   "execution_count": 3
  },
  {
   "cell_type": "code",
   "outputs": [],
   "source": [],
   "metadata": {
    "collapsed": false
   },
   "id": "de99140a9c2a3528"
  }
 ],
 "metadata": {
  "kernelspec": {
   "display_name": "Python 3",
   "language": "python",
   "name": "python3"
  },
  "language_info": {
   "codemirror_mode": {
    "name": "ipython",
    "version": 2
   },
   "file_extension": ".py",
   "mimetype": "text/x-python",
   "name": "python",
   "nbconvert_exporter": "python",
   "pygments_lexer": "ipython2",
   "version": "2.7.6"
  }
 },
 "nbformat": 4,
 "nbformat_minor": 5
}
