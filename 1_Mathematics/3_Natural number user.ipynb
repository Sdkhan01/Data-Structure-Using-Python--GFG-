{
 "cells": [
  {
   "cell_type": "markdown",
   "metadata": {},
   "source": [
    "### Write a python program that takes user input value n and calcaluate the sum of the days :"
   ]
  },
  {
   "cell_type": "markdown",
   "metadata": {},
   "source": [
    "print('a)"
   ]
  },
  {
   "cell_type": "code",
   "execution_count": 7,
   "metadata": {},
   "outputs": [
    {
     "name": "stdout",
     "output_type": "stream",
     "text": [
      "Sum is 45.0\n"
     ]
    }
   ],
   "source": [
    "n = int(input('Enter the number to find the sum of the number'))\n",
    "sum = n*(n+1)/2\n",
    "print(f\"Sum is {sum}\")"
   ]
  },
  {
   "cell_type": "code",
   "execution_count": 8,
   "metadata": {},
   "outputs": [
    {
     "name": "stdout",
     "output_type": "stream",
     "text": [
      "Sum is 45\n"
     ]
    }
   ],
   "source": [
    "## Using // for division to get int values instead of float\n",
    "\n",
    "n = int(input('Enter the number to find the sum of the number'))\n",
    "sum = n*(n+1)//2\n",
    "print(f\"Sum is {sum}\")\n"
   ]
  },
  {
   "cell_type": "code",
   "execution_count": null,
   "metadata": {},
   "outputs": [],
   "source": []
  }
 ],
 "metadata": {
  "kernelspec": {
   "display_name": "base",
   "language": "python",
   "name": "python3"
  },
  "language_info": {
   "codemirror_mode": {
    "name": "ipython",
    "version": 3
   },
   "file_extension": ".py",
   "mimetype": "text/x-python",
   "name": "python",
   "nbconvert_exporter": "python",
   "pygments_lexer": "ipython3",
   "version": "3.10.10"
  },
  "orig_nbformat": 4
 },
 "nbformat": 4,
 "nbformat_minor": 2
}
