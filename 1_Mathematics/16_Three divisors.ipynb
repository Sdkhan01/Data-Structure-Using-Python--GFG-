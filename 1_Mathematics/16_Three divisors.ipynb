{
 "cells": [
  {
   "cell_type": "markdown",
   "source": [
    "### Program to find number with exactly 3 divisors with recursive function"
   ],
   "metadata": {
    "collapsed": false
   },
   "id": "c7f496b849bace9"
  },
  {
   "cell_type": "markdown",
   "source": [
    "#### Approach:\n",
    "\n",
    "#### The time complexity is O(N^(1/2) * N^(1/4)) and the auxiliary space complexity is O(1).\n",
    "#####\n",
    "1. Check if the number is prime or not.\n",
    "2. If the number is prime, then check if the square of the number is less than or equal to N.\n",
    "3. If the square of the number is less than or equal to N, then increment the count.\n",
    "4. Return the count.\n",
    "5. Check if the number is prime or not.\n",
    "6. If the number is less than or equal to 1, then return False.\n",
    "7. If the number is less than or equal to 3, then return True.\n",
    "8. If the number is divisible by 2 or 3, then return False.\n",
    "9. Check if the number is prime or not.\n",
    "10. If the number is divisible by i or i+2, then return False.\n",
    "11. Increment i by 6.\n",
    "12. Return True.\n",
    "13. Call the function with the input N.\n",
    "14. Print the output.\n",
    "15. Exit.\n",
    "16. The time complexity of this approach is O(sqrt(N)).\n",
    "17. The space complexity of this approach is O(1)."
   ],
   "metadata": {
    "collapsed": false
   },
   "id": "c3f7b577832091f9"
  },
  {
   "cell_type": "code",
   "outputs": [
    {
     "data": {
      "text/plain": "1"
     },
     "execution_count": 17,
     "metadata": {},
     "output_type": "execute_result"
    }
   ],
   "source": [
    "\n",
    "def exactly3Divisors(N):\n",
    "    count = 0\n",
    "    for i in range(1, int(N**0.5)+1):\n",
    "        if isPrime(i):\n",
    "            if i * i <= N:\n",
    "                count += 1\n",
    "    return count\n",
    "def isPrime(n):\n",
    "    if n <= 1:\n",
    "        return False\n",
    "    if n <= 3:\n",
    "        return True\n",
    "    if n % 2 == 0 or n % 3 == 0:\n",
    "        return False\n",
    "    i = 5\n",
    "    while i * i <= n:\n",
    "        if n % i == 0 or n % (i + 2) == 0:\n",
    "            return False\n",
    "        i += 6\n",
    "    return True\n",
    "exactly3Divisors(6)"
   ],
   "metadata": {
    "collapsed": false,
    "ExecuteTime": {
     "end_time": "2024-05-15T04:59:37.588607200Z",
     "start_time": "2024-05-15T04:59:37.564805800Z"
    }
   },
   "id": "7b6012356337592f",
   "execution_count": 17
  },
  {
   "cell_type": "code",
   "outputs": [],
   "source": [],
   "metadata": {
    "collapsed": false
   },
   "id": "c317173e4ca34ff6"
  }
 ],
 "metadata": {
  "kernelspec": {
   "display_name": "Python 3",
   "language": "python",
   "name": "python3"
  },
  "language_info": {
   "codemirror_mode": {
    "name": "ipython",
    "version": 2
   },
   "file_extension": ".py",
   "mimetype": "text/x-python",
   "name": "python",
   "nbconvert_exporter": "python",
   "pygments_lexer": "ipython2",
   "version": "2.7.6"
  }
 },
 "nbformat": 4,
 "nbformat_minor": 5
}
