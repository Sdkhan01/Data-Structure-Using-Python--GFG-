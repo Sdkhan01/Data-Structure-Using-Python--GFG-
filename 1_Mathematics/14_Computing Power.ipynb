{
 "cells": [
  {
   "cell_type": "code",
   "outputs": [
    {
     "data": {
      "text/plain": "8"
     },
     "execution_count": 2,
     "metadata": {},
     "output_type": "execute_result"
    }
   ],
   "source": [
    "def powe(x,n):\n",
    "    res = 1\n",
    "    for i in range(n):\n",
    "        res = res*x\n",
    "    return res\n",
    "powe(2,3)\n",
    "\n",
    "#time complexity is O(n)"
   ],
   "metadata": {
    "collapsed": false,
    "ExecuteTime": {
     "end_time": "2024-05-13T06:23:14.793243600Z",
     "start_time": "2024-05-13T06:23:14.760882500Z"
    }
   },
   "id": "7b8eaf0bebe14a9f",
   "execution_count": 2
  },
  {
   "cell_type": "code",
   "execution_count": 8,
   "id": "initial_id",
   "metadata": {
    "collapsed": true,
    "ExecuteTime": {
     "end_time": "2024-05-13T06:26:23.096082600Z",
     "start_time": "2024-05-13T06:26:23.073791700Z"
    }
   },
   "outputs": [
    {
     "data": {
      "text/plain": "8"
     },
     "execution_count": 8,
     "metadata": {},
     "output_type": "execute_result"
    }
   ],
   "source": [
    "## Naive method\n",
    "\n",
    "def power(x,n):\n",
    "    if n==0:\n",
    "        return 1\n",
    "    else:\n",
    "        return x*power(x,n-1)\n",
    "power(2,3)\n",
    "\n",
    "#time complexity is O(n)"
   ]
  },
  {
   "cell_type": "code",
   "outputs": [
    {
     "data": {
      "text/plain": "8"
     },
     "execution_count": 10,
     "metadata": {},
     "output_type": "execute_result"
    }
   ],
   "source": [
    "#effient method\n",
    "\n",
    "def powerr(x,n):\n",
    "    if n ==0:\n",
    "        return 1\n",
    "    elif n%2==0:\n",
    "        return powerr(x*x,n//2)\n",
    "    else:\n",
    "        return x*powerr(x*x,(n-1)//2)\n",
    "powerr(2,3)\n",
    "\n",
    "#time complexity is O(logn)\n",
    "#space complexity is O(logn)"
   ],
   "metadata": {
    "collapsed": false,
    "ExecuteTime": {
     "end_time": "2024-05-13T06:28:18.334463Z",
     "start_time": "2024-05-13T06:28:18.323350300Z"
    }
   },
   "id": "b6c750b31273af66",
   "execution_count": 10
  },
  {
   "cell_type": "code",
   "outputs": [
    {
     "data": {
      "text/plain": "8"
     },
     "execution_count": 12,
     "metadata": {},
     "output_type": "execute_result"
    }
   ],
   "source": [
    "#effiecinet method 2\n",
    "\n",
    "def powerrr(x,n):\n",
    "    if n ==0:\n",
    "        return 1\n",
    "    temp = powerrr(x,n//2)\n",
    "    temp = temp*temp\n",
    "    if n%2 == 0:\n",
    "        return temp\n",
    "    else:\n",
    "        return temp*x\n",
    "powerrr(2,3)\n",
    "\n",
    "#time complexity is t(n) = t(n/2) + O(1) = O(logn)\n",
    "#space complexity is O(logn)"
   ],
   "metadata": {
    "collapsed": false,
    "ExecuteTime": {
     "end_time": "2024-05-13T06:30:44.299470700Z",
     "start_time": "2024-05-13T06:30:44.270842100Z"
    }
   },
   "id": "567cb12c150bfc75",
   "execution_count": 12
  },
  {
   "cell_type": "code",
   "outputs": [],
   "source": [],
   "metadata": {
    "collapsed": false
   },
   "id": "c5ecb7d408f47725"
  }
 ],
 "metadata": {
  "kernelspec": {
   "display_name": "Python 3",
   "language": "python",
   "name": "python3"
  },
  "language_info": {
   "codemirror_mode": {
    "name": "ipython",
    "version": 2
   },
   "file_extension": ".py",
   "mimetype": "text/x-python",
   "name": "python",
   "nbconvert_exporter": "python",
   "pygments_lexer": "ipython2",
   "version": "2.7.6"
  }
 },
 "nbformat": 4,
 "nbformat_minor": 5
}
