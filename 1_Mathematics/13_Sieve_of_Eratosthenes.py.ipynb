{
 "cells": [
  {
   "cell_type": "markdown",
   "source": [
    "##%%\n",
    "\n",
    "## -Sieve of Eratosthenes efficient algorithm to find all primes smaller than or equal to n\n",
    "## -Time Complexity: O(n*log(log(n)))\n",
    "## -Space Complexity: O(n)\n",
    "## -auxiliary space: O(n)\n",
    "\n",
    "#%"
   ],
   "metadata": {
    "collapsed": false
   },
   "id": "2ead1ce1ea0040c3"
  },
  {
   "cell_type": "code",
   "outputs": [],
   "source": [
    "def SieveOfEratosthenes(n):\n",
    "    prime = [True for i in range(n+1)]\n",
    "    p = 2\n",
    "    while (p*p <= n):\n",
    "        if (prime[p] == True):\n",
    "            for i in range(p*p, n+1, p):\n",
    "                prime[i] = False\n",
    "        p += 1\n",
    "    for p in range(2, n):\n",
    "        if prime[p]:\n",
    "            print(p)"
   ],
   "metadata": {
    "collapsed": false,
    "ExecuteTime": {
     "end_time": "2024-05-13T05:58:03.749891600Z",
     "start_time": "2024-05-13T05:58:03.742485300Z"
    }
   },
   "id": "6f4abd4a8280bec",
   "execution_count": 1
  },
  {
   "cell_type": "code",
   "outputs": [
    {
     "name": "stdout",
     "output_type": "stream",
     "text": [
      "2\n",
      "3\n",
      "5\n",
      "7\n",
      "11\n",
      "13\n",
      "17\n",
      "19\n",
      "23\n",
      "29\n"
     ]
    }
   ],
   "source": [
    "SieveOfEratosthenes(30)"
   ],
   "metadata": {
    "collapsed": false,
    "ExecuteTime": {
     "end_time": "2024-05-13T06:12:47.798423400Z",
     "start_time": "2024-05-13T06:12:47.775231800Z"
    }
   },
   "id": "fe5950dcabd20484",
   "execution_count": 4
  },
  {
   "cell_type": "code",
   "outputs": [
    {
     "name": "stdout",
     "output_type": "stream",
     "text": [
      "2\n",
      "3\n",
      "5\n",
      "7\n",
      "11\n",
      "13\n",
      "17\n",
      "19\n",
      "23\n",
      "29\n"
     ]
    }
   ],
   "source": [
    "def eratosthenes(n):\n",
    "    if n<=1:\n",
    "        return \n",
    "    isprime = [True for i in range(n+1)]\n",
    "    i = 2\n",
    "    while i<=n:\n",
    "        if isprime[i]:\n",
    "            print(i) # (i, end = \" \") will print in the same line horizontally\n",
    "            for j in range(i*i,n+1,i):\n",
    "                isprime[j] = False\n",
    "        i += 1\n",
    "eratosthenes(30)"
   ],
   "metadata": {
    "collapsed": false,
    "ExecuteTime": {
     "end_time": "2024-05-13T06:16:16.547127600Z",
     "start_time": "2024-05-13T06:16:16.531396600Z"
    }
   },
   "id": "6ee10a1bcfbbb950",
   "execution_count": 8
  },
  {
   "cell_type": "code",
   "outputs": [],
   "source": [],
   "metadata": {
    "collapsed": false
   },
   "id": "1588aa191fe3ffb4"
  }
 ],
 "metadata": {
  "kernelspec": {
   "display_name": "Python 3",
   "language": "python",
   "name": "python3"
  },
  "language_info": {
   "codemirror_mode": {
    "name": "ipython",
    "version": 2
   },
   "file_extension": ".py",
   "mimetype": "text/x-python",
   "name": "python",
   "nbconvert_exporter": "python",
   "pygments_lexer": "ipython2",
   "version": "2.7.6"
  }
 },
 "nbformat": 4,
 "nbformat_minor": 5
}
