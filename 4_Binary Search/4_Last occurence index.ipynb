{
 "cells": [
  {
   "cell_type": "code",
   "execution_count": 2,
   "id": "initial_id",
   "metadata": {
    "collapsed": true,
    "ExecuteTime": {
     "end_time": "2024-06-13T16:30:40.887649600Z",
     "start_time": "2024-06-13T16:30:40.873706700Z"
    }
   },
   "outputs": [
    {
     "name": "stdout",
     "output_type": "stream",
     "text": [
      "19\n"
     ]
    }
   ],
   "source": [
    "def last_occur(l,x):\n",
    "    for i in reversed(range(len(l))):\n",
    "        if l[i] == x:\n",
    "            return i\n",
    "    return -1\n",
    "l = [1,2,3,4,5,6,7,8,9,10,1,2,3,4,5,6,7,8,9,10]\n",
    "x = 10\n",
    "print(last_occur(l,x))\n",
    "\n",
    "#time complexity is O(n)\n",
    "#space complexity is O(1)\n"
   ]
  },
  {
   "cell_type": "code",
   "outputs": [
    {
     "name": "stdout",
     "output_type": "stream",
     "text": [
      "19\n"
     ]
    }
   ],
   "source": [
    "def last_occur2(l,x):\n",
    "    for i in range(len(l)-1,-1,-1):\n",
    "        if l[i] == x:\n",
    "            return i\n",
    "    return -1\n",
    "l = [1,2,3,4,5,6,7,8,9,10,1,2,3,4,5,6,7,8,9,10]\n",
    "x = 10\n",
    "print(last_occur2(l,x))\n",
    "#time complexity is O(n)\n",
    "#space complexity is O(1)\n"
   ],
   "metadata": {
    "collapsed": false,
    "ExecuteTime": {
     "end_time": "2024-06-13T16:32:11.951353600Z",
     "start_time": "2024-06-13T16:32:11.917019600Z"
    }
   },
   "id": "ca58113ec039ff37",
   "execution_count": 4
  },
  {
   "cell_type": "code",
   "outputs": [
    {
     "name": "stdout",
     "output_type": "stream",
     "text": [
      "4\n"
     ]
    }
   ],
   "source": [
    "\n",
    "\n",
    "def last_occurance(l,x):\n",
    "    \n",
    "    low = 0\n",
    "    high = len(l)-1\n",
    "    while low <= high:\n",
    "        mid = (low+high)//2\n",
    "        if l[mid] < x:\n",
    "            low = mid +1\n",
    "        elif l[mid] > x:\n",
    "            high = mid - 1\n",
    "        else:\n",
    "            if mid == len(l)-1 or l[mid] != l[mid +1]:\n",
    "                return mid\n",
    "            else:\n",
    "                low = mid + 1\n",
    "    return -1\n",
    "\n",
    "l = [5,10,10,10,10,20,20]\n",
    "x = 10\n",
    "print(last_occurance(l,x))\n",
    "\n",
    "#time complexity is O(logn)\n",
    "#space complexity is O(1)"
   ],
   "metadata": {
    "collapsed": false,
    "ExecuteTime": {
     "end_time": "2024-06-13T16:47:25.472279600Z",
     "start_time": "2024-06-13T16:47:25.443506100Z"
    }
   },
   "id": "4065c2d0dd86ae01",
   "execution_count": 8
  },
  {
   "cell_type": "code",
   "outputs": [],
   "source": [],
   "metadata": {
    "collapsed": false
   },
   "id": "1de1ea3725d8f3b9"
  }
 ],
 "metadata": {
  "kernelspec": {
   "display_name": "Python 3",
   "language": "python",
   "name": "python3"
  },
  "language_info": {
   "codemirror_mode": {
    "name": "ipython",
    "version": 2
   },
   "file_extension": ".py",
   "mimetype": "text/x-python",
   "name": "python",
   "nbconvert_exporter": "python",
   "pygments_lexer": "ipython2",
   "version": "2.7.6"
  }
 },
 "nbformat": 4,
 "nbformat_minor": 5
}
