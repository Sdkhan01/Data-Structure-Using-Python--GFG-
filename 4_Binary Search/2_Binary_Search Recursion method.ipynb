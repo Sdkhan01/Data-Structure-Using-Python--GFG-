{
 "cells": [
  {
   "cell_type": "code",
   "execution_count": 1,
   "id": "initial_id",
   "metadata": {
    "collapsed": true,
    "ExecuteTime": {
     "end_time": "2024-06-12T16:08:51.775544400Z",
     "start_time": "2024-06-12T16:08:51.756613300Z"
    }
   },
   "outputs": [],
   "source": [
    "## Binary Search using Recursion\n"
   ]
  },
  {
   "cell_type": "code",
   "outputs": [],
   "source": [
    "def b_search(arr, x,low, high):\n",
    "    if low > high:\n",
    "        return -1\n",
    "    mid = (low + high) // 2\n",
    "    if arr[mid] ==x:\n",
    "        return mid\n",
    "    elif arr[mid] >x:\n",
    "        return b_search(arr,x,low,mid - 1)\n",
    "    else:\n",
    "        return b_search(arr,x,mid+1,high)\n",
    "def b_searchMain(arr,x):\n",
    "    return b_search(arr,x,0,len(arr)-1)"
   ],
   "metadata": {
    "collapsed": false,
    "ExecuteTime": {
     "end_time": "2024-06-12T16:13:23.171695400Z",
     "start_time": "2024-06-12T16:13:23.144906200Z"
    }
   },
   "id": "394d36bf4667d190",
   "execution_count": 5
  },
  {
   "cell_type": "code",
   "outputs": [
    {
     "name": "stdout",
     "output_type": "stream",
     "text": [
      "4\n"
     ]
    }
   ],
   "source": [
    "arr = [1,2,3,4,5,6,7,8,9,10]\n",
    "x = 5\n",
    "print(b_searchMain(arr,x))"
   ],
   "metadata": {
    "collapsed": false,
    "ExecuteTime": {
     "end_time": "2024-06-12T16:13:34.816999300Z",
     "start_time": "2024-06-12T16:13:34.771781400Z"
    }
   },
   "id": "2b697828bfebe8bd",
   "execution_count": 6
  },
  {
   "cell_type": "code",
   "outputs": [],
   "source": [],
   "metadata": {
    "collapsed": false
   },
   "id": "202dd1e514379bd9"
  }
 ],
 "metadata": {
  "kernelspec": {
   "display_name": "Python 3",
   "language": "python",
   "name": "python3"
  },
  "language_info": {
   "codemirror_mode": {
    "name": "ipython",
    "version": 2
   },
   "file_extension": ".py",
   "mimetype": "text/x-python",
   "name": "python",
   "nbconvert_exporter": "python",
   "pygments_lexer": "ipython2",
   "version": "2.7.6"
  }
 },
 "nbformat": 4,
 "nbformat_minor": 5
}
