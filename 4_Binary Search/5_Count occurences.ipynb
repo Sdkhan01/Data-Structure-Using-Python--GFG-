{
 "cells": [
  {
   "cell_type": "raw",
   "source": [
    "##%%\n",
    "# Count occurences of a value in a sorted array"
   ],
   "metadata": {
    "collapsed": false
   },
   "id": "68960631bf59d3f6"
  },
  {
   "cell_type": "code",
   "outputs": [
    {
     "data": {
      "text/plain": "4"
     },
     "execution_count": 3,
     "metadata": {},
     "output_type": "execute_result"
    }
   ],
   "source": [
    "def count_occurences(arr, x):\n",
    "    count = 0\n",
    "    for i in range(len(arr)):\n",
    "        if arr[i] ==x:\n",
    "            count = count + 1\n",
    "    return count\n",
    "arr = [1, 2, 2, 3, 3, 3, 3]\n",
    "x = 3\n",
    "count_occurences(arr, x)\n",
    "\n",
    "#time complexity is O(n)\n",
    "## space complexity is O(1)\n"
   ],
   "metadata": {
    "collapsed": false,
    "ExecuteTime": {
     "end_time": "2024-06-13T17:51:20.020783500Z",
     "start_time": "2024-06-13T17:51:20.003786500Z"
    }
   },
   "id": "c221de7d839ef0ca",
   "execution_count": 3
  },
  {
   "cell_type": "code",
   "outputs": [
    {
     "data": {
      "text/plain": "6"
     },
     "execution_count": 16,
     "metadata": {},
     "output_type": "execute_result"
    }
   ],
   "source": [
    "def count_occ(l,x):    \n",
    "    def first_occ(l,x):\n",
    "        low = 0\n",
    "        high = len(l)-1\n",
    "        while low <= high:\n",
    "            mid = (low + high)//2\n",
    "            if l[mid] < x :\n",
    "                low = mid + 1\n",
    "            elif l[mid]> x:\n",
    "                high = mid -1\n",
    "            else:\n",
    "                if mid == 0 or l[mid - 1] != x:\n",
    "                    return mid\n",
    "                else:\n",
    "                    high = mid -1\n",
    "        return -1\n",
    "    \n",
    "    def last_occ(l,x):\n",
    "        low = 0\n",
    "        high = len(l)-1\n",
    "        while low<= high:\n",
    "            mid = (low + high)//2\n",
    "            if l[mid] < x:\n",
    "                low = mid + 1\n",
    "            elif l[mid] > x:\n",
    "                high = mid -1\n",
    "            else:\n",
    "                if mid == len(l)-1 or l[mid + 1] != x:\n",
    "                    return mid\n",
    "                else :\n",
    "                    low = mid +1\n",
    "        return -1\n",
    "    first = first_occ(l,x)\n",
    "    if first == -1:\n",
    "        return 0\n",
    "    else:\n",
    "        return last_occ(l,x) - first + 1\n",
    "    \n",
    "l = [1, 2, 2, 3,3,3, 3, 3, 3,7,8]\n",
    "x = 3\n",
    "count_occ(l,x)\n",
    "\n",
    "## time complexity is O(logn) = O(logn) + O(logn) = 2O(logn) = O(logn)\n",
    "## space complexity is O(1)"
   ],
   "metadata": {
    "collapsed": false,
    "ExecuteTime": {
     "end_time": "2024-06-13T18:54:11.336067100Z",
     "start_time": "2024-06-13T18:54:11.303585200Z"
    }
   },
   "id": "e5cb3fcfebfed4af",
   "execution_count": 16
  },
  {
   "cell_type": "code",
   "outputs": [],
   "source": [
    "\n",
    "## write a function to count the number of occurences of a value in a sorted array using binary search\n",
    "\n",
    "def count_occurences(arr, x):\n",
    "    def first_occurence(arr, x):\n",
    "        low = 0\n",
    "        high = len(arr) - 1\n",
    "        while low <= high:\n",
    "            mid = (low + high) // 2\n",
    "            if arr[mid] == x:\n",
    "                if mid == 0 or arr[mid - 1] != x:\n",
    "                    return mid\n",
    "                else:\n",
    "                    high = mid - 1\n",
    "            elif arr[mid] > x:\n",
    "                high = mid - 1\n",
    "            else:\n",
    "                low = mid + 1\n",
    "        return -1\n",
    "\n",
    "    def last_occurence(arr, x):\n",
    "        low = 0\n",
    "        high = len(arr) - 1\n",
    "        while low <= high:\n",
    "            mid = (low + high) // 2\n",
    "            if arr[mid] == x:\n",
    "                if mid == len(arr) - 1 or arr[mid + 1] != x:\n",
    "                    return mid\n",
    "                else:\n",
    "                    low = mid + 1\n",
    "            elif arr[mid] > x:\n",
    "                high = mid - 1\n",
    "            else:\n",
    "                low = mid + 1\n",
    "        return -1\n",
    "\n",
    "    first = first_occurence(arr, x)\n",
    "    if first == -1:\n",
    "        return 0\n",
    "    else:\n",
    "        return last_occurence(arr, x) - first + 1\n",
    "    "
   ],
   "metadata": {
    "collapsed": false,
    "ExecuteTime": {
     "end_time": "2024-06-13T18:54:17.795854200Z",
     "start_time": "2024-06-13T18:54:17.770648900Z"
    }
   },
   "id": "d0957ba2b06ccacf",
   "execution_count": 17
  },
  {
   "cell_type": "code",
   "outputs": [
    {
     "data": {
      "text/plain": "4"
     },
     "execution_count": 18,
     "metadata": {},
     "output_type": "execute_result"
    }
   ],
   "source": [
    "arr = [1, 2, 2, 3, 3, 3, 3]\n",
    "x = 3\n",
    "count_occurences(arr, x)"
   ],
   "metadata": {
    "collapsed": false,
    "ExecuteTime": {
     "end_time": "2024-06-13T18:54:21.160096600Z",
     "start_time": "2024-06-13T18:54:21.152668300Z"
    }
   },
   "id": "2953e7cb6d274e9d",
   "execution_count": 18
  },
  {
   "cell_type": "code",
   "outputs": [],
   "source": [],
   "metadata": {
    "collapsed": false
   },
   "id": "a44778fb64996f75"
  }
 ],
 "metadata": {
  "kernelspec": {
   "display_name": "Python 3",
   "language": "python",
   "name": "python3"
  },
  "language_info": {
   "codemirror_mode": {
    "name": "ipython",
    "version": 2
   },
   "file_extension": ".py",
   "mimetype": "text/x-python",
   "name": "python",
   "nbconvert_exporter": "python",
   "pygments_lexer": "ipython2",
   "version": "2.7.6"
  }
 },
 "nbformat": 4,
 "nbformat_minor": 5
}
