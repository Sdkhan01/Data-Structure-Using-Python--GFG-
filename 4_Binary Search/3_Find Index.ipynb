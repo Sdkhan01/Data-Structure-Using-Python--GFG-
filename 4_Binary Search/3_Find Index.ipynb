{
 "cells": [
  {
   "cell_type": "code",
   "execution_count": 1,
   "id": "initial_id",
   "metadata": {
    "collapsed": true,
    "ExecuteTime": {
     "end_time": "2024-06-13T13:40:31.297112400Z",
     "start_time": "2024-06-13T13:40:31.276475Z"
    }
   },
   "outputs": [],
   "source": [
    "## find index of first occurance"
   ]
  },
  {
   "cell_type": "code",
   "outputs": [
    {
     "name": "stdout",
     "output_type": "stream",
     "text": [
      "(array([4], dtype=int64),)\n"
     ]
    }
   ],
   "source": [
    "import numpy as np\n",
    "a = np.array([1, 2, 3, 4, 5, 6, 7, 8, 9, 10])\n",
    "x = 5\n",
    "result = np.where(a == x)\n",
    "print(result)\n",
    "\n",
    "## time complexity is O(n)\n",
    "## space complexity is O(n)"
   ],
   "metadata": {
    "collapsed": false,
    "ExecuteTime": {
     "end_time": "2024-06-13T13:41:12.606112Z",
     "start_time": "2024-06-13T13:41:12.587704600Z"
    }
   },
   "id": "6376d27ef5d2a003",
   "execution_count": 3
  },
  {
   "cell_type": "code",
   "outputs": [],
   "source": [
    "def first_occ(arr,n,x):\n",
    "    n = len(arr)\n",
    "    for i in range(n):\n",
    "        if arr[i] == x:\n",
    "            return i\n",
    "    return -1\n",
    "arr = [1, 10, 10, 10, 20, 20, 40]\n",
    "x = 20"
   ],
   "metadata": {
    "collapsed": false,
    "ExecuteTime": {
     "end_time": "2024-06-13T13:43:00.201592100Z",
     "start_time": "2024-06-13T13:43:00.164311300Z"
    }
   },
   "id": "1f245d067f12a6a8",
   "execution_count": 6
  },
  {
   "cell_type": "code",
   "outputs": [
    {
     "name": "stdout",
     "output_type": "stream",
     "text": [
      "4\n"
     ]
    }
   ],
   "source": [
    "print(first_occ(arr,n,x))"
   ],
   "metadata": {
    "collapsed": false,
    "ExecuteTime": {
     "end_time": "2024-06-13T13:43:01.673276300Z",
     "start_time": "2024-06-13T13:43:01.640262500Z"
    }
   },
   "id": "eb35489855355e67",
   "execution_count": 7
  },
  {
   "cell_type": "code",
   "outputs": [],
   "source": [
    "def first_occ(arr,x):\n",
    "    for i in range(len(arr)):\n",
    "        if arr[i] == x:\n",
    "            return i\n",
    "    return -1\n",
    "## time complexity is O(n)\n",
    "## space complexity is O(1)"
   ],
   "metadata": {
    "collapsed": false,
    "ExecuteTime": {
     "end_time": "2024-06-13T13:44:13.738124200Z",
     "start_time": "2024-06-13T13:44:13.719018400Z"
    }
   },
   "id": "a3092e41c48009c6",
   "execution_count": 8
  },
  {
   "cell_type": "code",
   "outputs": [
    {
     "data": {
      "text/plain": "4"
     },
     "execution_count": 14,
     "metadata": {},
     "output_type": "execute_result"
    }
   ],
   "source": [
    "\n",
    "arr = [1, 10, 10, 10, 20, 20, 40]\n",
    "\n",
    "first_occ(arr,10)\n",
    "x = 20\n",
    "first_occ(arr,x)"
   ],
   "metadata": {
    "collapsed": false,
    "ExecuteTime": {
     "end_time": "2024-06-13T13:45:38.335957300Z",
     "start_time": "2024-06-13T13:45:38.313325Z"
    }
   },
   "id": "71331080bf2fa7c3",
   "execution_count": 14
  },
  {
   "cell_type": "code",
   "outputs": [
    {
     "data": {
      "text/plain": "4"
     },
     "execution_count": 18,
     "metadata": {},
     "output_type": "execute_result"
    }
   ],
   "source": [
    "## Binary seach iterative approach\n",
    "\n",
    "def _first_occ(arr,n,x):\n",
    "    low = 0\n",
    "    high = n -1\n",
    "    while low <= high:\n",
    "        mid = (low + high) // 2\n",
    "        if x > arr[mid]:\n",
    "            low = mid +1\n",
    "        elif x < arr[mid]:\n",
    "            high = mid -1\n",
    "        else:\n",
    "            if mid ==0 or arr[mid-1] !=arr[mid]:\n",
    "                return mid\n",
    "            else:\n",
    "                high = mid -1\n",
    "    return -1\n",
    "arr = [1, 10, 10, 10, 20, 20, 40]\n",
    "x = 20\n",
    "n = len(arr)\n",
    "_first_occ(arr,n,x)\n",
    "\n",
    "##time complexity is O(logn)\n",
    "##space complexity is O(1)"
   ],
   "metadata": {
    "collapsed": false,
    "ExecuteTime": {
     "end_time": "2024-06-13T16:23:02.529860600Z",
     "start_time": "2024-06-13T16:23:02.495503600Z"
    }
   },
   "id": "cb54f600cff46a0b",
   "execution_count": 18
  },
  {
   "cell_type": "code",
   "outputs": [],
   "source": [],
   "metadata": {
    "collapsed": false
   },
   "id": "4bfbcdd8e43485ef"
  }
 ],
 "metadata": {
  "kernelspec": {
   "display_name": "Python 3",
   "language": "python",
   "name": "python3"
  },
  "language_info": {
   "codemirror_mode": {
    "name": "ipython",
    "version": 2
   },
   "file_extension": ".py",
   "mimetype": "text/x-python",
   "name": "python",
   "nbconvert_exporter": "python",
   "pygments_lexer": "ipython2",
   "version": "2.7.6"
  }
 },
 "nbformat": 4,
 "nbformat_minor": 5
}
