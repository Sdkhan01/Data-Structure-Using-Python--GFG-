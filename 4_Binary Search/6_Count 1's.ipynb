{
 "cells": [
  {
   "cell_type": "code",
   "execution_count": 2,
   "id": "initial_id",
   "metadata": {
    "collapsed": true,
    "ExecuteTime": {
     "end_time": "2024-06-13T18:59:46.807727200Z",
     "start_time": "2024-06-13T18:59:46.791809500Z"
    }
   },
   "outputs": [],
   "source": [
    "## Count 1's in list of 0 and 1's"
   ]
  },
  {
   "cell_type": "code",
   "outputs": [
    {
     "data": {
      "text/plain": "6"
     },
     "execution_count": 5,
     "metadata": {},
     "output_type": "execute_result"
    }
   ],
   "source": [
    "## naive way\n",
    "\n",
    "def count_ones(arr,x):\n",
    "    count = 0\n",
    "    for i in range(len(arr)):\n",
    "        if arr[i] == x:\n",
    "            count = count + 1\n",
    "    return count\n",
    "x = 1\n",
    "arr = [1, 0, 1, 1, 0, 0, 1, 1, 1]\n",
    "count_ones(arr, x)\n",
    "##time complexity is O(n)\n",
    "## space complexity is O(1)"
   ],
   "metadata": {
    "collapsed": false,
    "ExecuteTime": {
     "end_time": "2024-06-13T19:01:56.606448600Z",
     "start_time": "2024-06-13T19:01:56.594608900Z"
    }
   },
   "id": "fc0863983954763a",
   "execution_count": 5
  },
  {
   "cell_type": "code",
   "outputs": [
    {
     "data": {
      "text/plain": "11"
     },
     "execution_count": 13,
     "metadata": {},
     "output_type": "execute_result"
    }
   ],
   "source": [
    "## using binary search\n",
    "## list  should be sorted\n",
    "def count_one(arr):\n",
    "    low = 0\n",
    "    high = len(arr) - 1\n",
    "    while low <= high:\n",
    "        mid = (low + high)//2\n",
    "        if arr[mid]== 0:\n",
    "            low = mid + 1\n",
    "        else:\n",
    "            if mid ==0 or arr[mid -1] ==0:\n",
    "                return len(arr) - mid\n",
    "            else:\n",
    "                high = mid - 1\n",
    "    return 0\n",
    "arr = [0, 0, 0, 1, 1, 1,1,1,1,1,0,1,1,1]\n",
    "count_one(arr)"
   ],
   "metadata": {
    "collapsed": false,
    "ExecuteTime": {
     "end_time": "2024-06-13T19:08:46.420754500Z",
     "start_time": "2024-06-13T19:08:46.397426600Z"
    }
   },
   "id": "8136e558fee07209",
   "execution_count": 13
  },
  {
   "cell_type": "code",
   "outputs": [
    {
     "data": {
      "text/plain": "10"
     },
     "execution_count": 12,
     "metadata": {},
     "output_type": "execute_result"
    }
   ],
   "source": [
    "## using binary search\n",
    "def count_one(arr):\n",
    "    low = 0\n",
    "    high = len(arr) - 1\n",
    "    while low <= high:\n",
    "        mid = (low + high)//2\n",
    "        if arr[mid]== 0:\n",
    "            low = mid + 1\n",
    "        else:\n",
    "            if mid ==0 or arr[mid -1] ==0:\n",
    "                return len(arr) - mid\n",
    "            else:\n",
    "                high = mid - 1\n",
    "    return 0\n",
    "arr = [0,0, 0, 0, 1, 1, 1,1,1,1,1,1,1,1]\n",
    "count_one(arr)"
   ],
   "metadata": {
    "collapsed": false,
    "ExecuteTime": {
     "end_time": "2024-06-13T19:08:24.077424200Z",
     "start_time": "2024-06-13T19:08:24.058596Z"
    }
   },
   "id": "c71050e624e949bd",
   "execution_count": 12
  },
  {
   "cell_type": "code",
   "outputs": [],
   "source": [],
   "metadata": {
    "collapsed": false
   },
   "id": "3f4105bb260b7554"
  }
 ],
 "metadata": {
  "kernelspec": {
   "display_name": "Python 3",
   "language": "python",
   "name": "python3"
  },
  "language_info": {
   "codemirror_mode": {
    "name": "ipython",
    "version": 2
   },
   "file_extension": ".py",
   "mimetype": "text/x-python",
   "name": "python",
   "nbconvert_exporter": "python",
   "pygments_lexer": "ipython2",
   "version": "2.7.6"
  }
 },
 "nbformat": 4,
 "nbformat_minor": 5
}
