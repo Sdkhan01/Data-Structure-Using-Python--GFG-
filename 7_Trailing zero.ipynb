{
 "cells": [
  {
   "cell_type": "markdown",
   "metadata": {},
   "source": [
    "### Program to find the 0 in factorial number\n",
    "##### * like  n = 5(1x2x3x4x5) will 120 and having 0 one times."
   ]
  },
  {
   "cell_type": "code",
   "execution_count": 22,
   "metadata": {},
   "outputs": [
    {
     "data": {
      "text/plain": [
       "62"
      ]
     },
     "execution_count": 22,
     "metadata": {},
     "output_type": "execute_result"
    }
   ],
   "source": [
    "## First we are using the naive method \n",
    "\n",
    "def countZero(n):\n",
    "    fact = 1\n",
    "    for i in range(2, n+1):\n",
    "        fact = fact *i\n",
    "    res = 0\n",
    "    while(fact %10 ==0):\n",
    "        res = res + 1\n",
    "        fact = fact // 10\n",
    "    return res\n",
    "countZero(252)"
   ]
  },
  {
   "cell_type": "code",
   "execution_count": 21,
   "metadata": {},
   "outputs": [
    {
     "data": {
      "text/plain": [
       "30864192"
      ]
     },
     "execution_count": 21,
     "metadata": {},
     "output_type": "execute_result"
    }
   ],
   "source": [
    "## Efficient Method :\n",
    "\n",
    "def countZero1(n):\n",
    "    res = 0\n",
    "    i = 5\n",
    "    while (i <= n):\n",
    "        res = res + n// i \n",
    "        i = i*5\n",
    "    return res\n",
    "countZero1(123456789) ## It will be difficult to solve using naive method it will take too much time in naive\n",
    "\n"
   ]
  },
  {
   "cell_type": "code",
   "execution_count": null,
   "metadata": {},
   "outputs": [],
   "source": [
    "\n"
   ]
  },
  {
   "cell_type": "code",
   "execution_count": null,
   "metadata": {},
   "outputs": [],
   "source": []
  }
 ],
 "metadata": {
  "kernelspec": {
   "display_name": "base",
   "language": "python",
   "name": "python3"
  },
  "language_info": {
   "codemirror_mode": {
    "name": "ipython",
    "version": 3
   },
   "file_extension": ".py",
   "mimetype": "text/x-python",
   "name": "python",
   "nbconvert_exporter": "python",
   "pygments_lexer": "ipython3",
   "version": "3.10.10"
  },
  "orig_nbformat": 4
 },
 "nbformat": 4,
 "nbformat_minor": 2
}
