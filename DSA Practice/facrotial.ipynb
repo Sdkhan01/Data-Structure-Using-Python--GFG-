{
 "cells": [
  {
   "cell_type": "code",
   "execution_count": 9,
   "id": "initial_id",
   "metadata": {
    "collapsed": true,
    "ExecuteTime": {
     "end_time": "2024-05-12T11:04:47.837358500Z",
     "start_time": "2024-05-12T11:04:47.826385600Z"
    }
   },
   "outputs": [],
   "source": [
    "def fun(n):\n",
    "    res = 1\n",
    "    for i in range(2,n+1): #either take 1 or 2 before n+1, output remains same\n",
    "        res = res*i\n",
    "    return res"
   ]
  },
  {
   "cell_type": "code",
   "outputs": [
    {
     "data": {
      "text/plain": "40320"
     },
     "execution_count": 10,
     "metadata": {},
     "output_type": "execute_result"
    }
   ],
   "source": [
    "fun(8)"
   ],
   "metadata": {
    "collapsed": false,
    "ExecuteTime": {
     "end_time": "2024-05-12T11:04:48.301588700Z",
     "start_time": "2024-05-12T11:04:48.280640200Z"
    }
   },
   "id": "57b58615547fd27b",
   "execution_count": 10
  },
  {
   "cell_type": "code",
   "outputs": [],
   "source": [
    "\n",
    "def fun2(n):\n",
    "    if n == 0:\n",
    "        return 1\n",
    "    return n* fun2(n-1)\n",
    "    "
   ],
   "metadata": {
    "collapsed": false,
    "ExecuteTime": {
     "end_time": "2024-05-12T11:08:06.797864Z",
     "start_time": "2024-05-12T11:08:06.775403600Z"
    }
   },
   "id": "6407cb52e2a3a143",
   "execution_count": 11
  },
  {
   "cell_type": "code",
   "outputs": [
    {
     "data": {
      "text/plain": "1"
     },
     "execution_count": 13,
     "metadata": {},
     "output_type": "execute_result"
    }
   ],
   "source": [
    "fun2(0)"
   ],
   "metadata": {
    "collapsed": false,
    "ExecuteTime": {
     "end_time": "2024-05-12T11:08:41.650665700Z",
     "start_time": "2024-05-12T11:08:41.633707900Z"
    }
   },
   "id": "bcfcadc0f2a1bf39",
   "execution_count": 13
  },
  {
   "cell_type": "code",
   "outputs": [],
   "source": [],
   "metadata": {
    "collapsed": false
   },
   "id": "641e6a4f90fcd345"
  }
 ],
 "metadata": {
  "kernelspec": {
   "display_name": "Python 3",
   "language": "python",
   "name": "python3"
  },
  "language_info": {
   "codemirror_mode": {
    "name": "ipython",
    "version": 2
   },
   "file_extension": ".py",
   "mimetype": "text/x-python",
   "name": "python",
   "nbconvert_exporter": "python",
   "pygments_lexer": "ipython2",
   "version": "2.7.6"
  }
 },
 "nbformat": 4,
 "nbformat_minor": 5
}
