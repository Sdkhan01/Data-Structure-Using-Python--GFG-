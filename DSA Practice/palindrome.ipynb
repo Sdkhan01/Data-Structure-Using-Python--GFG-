{
 "cells": [
  {
   "cell_type": "code",
   "execution_count": 4,
   "id": "initial_id",
   "metadata": {
    "collapsed": true,
    "ExecuteTime": {
     "end_time": "2024-05-12T09:19:55.076972700Z",
     "start_time": "2024-05-12T09:19:55.055032200Z"
    }
   },
   "outputs": [
    {
     "data": {
      "text/plain": "True"
     },
     "execution_count": 4,
     "metadata": {},
     "output_type": "execute_result"
    }
   ],
   "source": [
    "def pal(n):\n",
    "    return str(n) == str(n)[::-1]\n",
    "pal(12321)"
   ]
  },
  {
   "cell_type": "code",
   "outputs": [
    {
     "data": {
      "text/plain": "'111565'"
     },
     "execution_count": 9,
     "metadata": {},
     "output_type": "execute_result"
    }
   ],
   "source": [
    "def abc(n):\n",
    "    return str(n)[::-1]\n",
    "abc(565111)"
   ],
   "metadata": {
    "collapsed": false,
    "ExecuteTime": {
     "end_time": "2024-05-12T09:24:05.930096400Z",
     "start_time": "2024-05-12T09:24:05.915064300Z"
    }
   },
   "id": "af91cd3fcf4e73e8",
   "execution_count": 9
  },
  {
   "cell_type": "code",
   "outputs": [
    {
     "data": {
      "text/plain": "True"
     },
     "execution_count": 11,
     "metadata": {},
     "output_type": "execute_result"
    }
   ],
   "source": [
    "def pal2(n):\n",
    "    rev = 0\n",
    "    temp = n\n",
    "    while temp != 0:\n",
    "        ld = temp %10\n",
    "        rev = rev *10 + ld\n",
    "        temp = temp // 10\n",
    "    return rev == n\n",
    "pal2(12321)"
   ],
   "metadata": {
    "collapsed": false,
    "ExecuteTime": {
     "end_time": "2024-05-12T09:35:05.929937500Z",
     "start_time": "2024-05-12T09:35:05.888531400Z"
    }
   },
   "id": "9b052e267d99fa99",
   "execution_count": 11
  },
  {
   "cell_type": "code",
   "outputs": [
    {
     "data": {
      "text/plain": "4"
     },
     "execution_count": 12,
     "metadata": {},
     "output_type": "execute_result"
    }
   ],
   "source": [
    "4%10"
   ],
   "metadata": {
    "collapsed": false,
    "ExecuteTime": {
     "end_time": "2024-05-12T09:46:12.620760Z",
     "start_time": "2024-05-12T09:46:12.573303300Z"
    }
   },
   "id": "b72f7aa91d51ef7c",
   "execution_count": 12
  },
  {
   "cell_type": "code",
   "outputs": [
    {
     "data": {
      "text/plain": "0"
     },
     "execution_count": 13,
     "metadata": {},
     "output_type": "execute_result"
    }
   ],
   "source": [
    "4//10\n"
   ],
   "metadata": {
    "collapsed": false,
    "ExecuteTime": {
     "end_time": "2024-05-12T09:46:21.500534100Z",
     "start_time": "2024-05-12T09:46:21.455030700Z"
    }
   },
   "id": "83099193cf9495aa",
   "execution_count": 13
  },
  {
   "cell_type": "code",
   "outputs": [
    {
     "data": {
      "text/plain": "True"
     },
     "execution_count": 16,
     "metadata": {},
     "output_type": "execute_result"
    }
   ],
   "source": [
    "#dont give hint in this program please\n",
    "\n",
    "def pall(n):\n",
    "    rev = 0\n",
    "    temp = n\n",
    "    while temp != 0:\n",
    "        ld = temp %10 \n",
    "        rev = rev *10 +ld\n",
    "        temp = temp//10\n",
    "    return rev == n\n",
    "pall(12321)\n",
    "    "
   ],
   "metadata": {
    "collapsed": false,
    "ExecuteTime": {
     "end_time": "2024-05-12T09:51:39.189918100Z",
     "start_time": "2024-05-12T09:51:39.153506300Z"
    }
   },
   "id": "450adc0b2a7c4e55",
   "execution_count": 16
  },
  {
   "cell_type": "code",
   "outputs": [],
   "source": [],
   "metadata": {
    "collapsed": false,
    "ExecuteTime": {
     "end_time": "2024-05-12T09:51:23.120689100Z",
     "start_time": "2024-05-12T09:51:23.109718Z"
    }
   },
   "id": "1ae46be032728caf",
   "execution_count": 15
  },
  {
   "cell_type": "code",
   "outputs": [],
   "source": [],
   "metadata": {
    "collapsed": false
   },
   "id": "e2056b6b181dc292"
  }
 ],
 "metadata": {
  "kernelspec": {
   "display_name": "Python 3",
   "language": "python",
   "name": "python3"
  },
  "language_info": {
   "codemirror_mode": {
    "name": "ipython",
    "version": 2
   },
   "file_extension": ".py",
   "mimetype": "text/x-python",
   "name": "python",
   "nbconvert_exporter": "python",
   "pygments_lexer": "ipython2",
   "version": "2.7.6"
  }
 },
 "nbformat": 4,
 "nbformat_minor": 5
}
