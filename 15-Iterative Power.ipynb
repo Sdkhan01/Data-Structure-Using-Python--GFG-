{
 "cells": [
  {
   "cell_type": "markdown",
   "source": [
    "## Iterative Power"
   ],
   "metadata": {
    "collapsed": false
   },
   "id": "89e228a6a0a369ee"
  },
  {
   "cell_type": "code",
   "outputs": [
    {
     "data": {
      "text/plain": "1024"
     },
     "execution_count": 18,
     "metadata": {},
     "output_type": "execute_result"
    }
   ],
   "source": [
    "## Power of a number\n",
    "def power(x,n):\n",
    "    res = 1\n",
    "    while n > 0:\n",
    "        if(n%2!=0):\n",
    "            res = res * x\n",
    "        x = x*x\n",
    "        n = n//2\n",
    "    return res   \n",
    "power(4,5)\n",
    "\n",
    "# time complexity is O(logn)\n",
    "# space complexity is O(1)"
   ],
   "metadata": {
    "collapsed": false,
    "ExecuteTime": {
     "end_time": "2024-05-14T11:12:43.166184200Z",
     "start_time": "2024-05-14T11:12:43.152132500Z"
    }
   },
   "id": "bd368a9367e48c56",
   "execution_count": 18
  },
  {
   "cell_type": "code",
   "outputs": [],
   "source": [
    "## Power of a number using bitwise operator\n",
    "def power(x,n):\n",
    "    res = 1\n",
    "    while n > 0:\n",
    "        if n & 1: #& is used to check if the number is odd or even by checking the last bit\n",
    "            res = res * x\n",
    "        x = x*x\n",
    "        n = n>>1 #right shift by 1 bit is equivalent to dividing by 2. Its working is similar to n//2.\n",
    "    return res   \n",
    "power(4,5)"
   ],
   "metadata": {
    "collapsed": false
   },
   "id": "8b6c5fab9055dbe5"
  },
  {
   "cell_type": "code",
   "outputs": [
    {
     "data": {
      "text/plain": "332"
     },
     "execution_count": 32,
     "metadata": {},
     "output_type": "execute_result"
    }
   ],
   "source": [
    "## Power of a number modulo m\n",
    "def power(x,n,m):\n",
    "    res = 1\n",
    "    while n > 0:\n",
    "        if n & 1:\n",
    "            res = (res * x)%m\n",
    "        x = (x*x)%m\n",
    "        n = n>>1\n",
    "    return res   \n",
    "power(4,5,346)\n",
    "#Time"
   ],
   "metadata": {
    "collapsed": false,
    "ExecuteTime": {
     "end_time": "2024-05-14T12:27:07.402797400Z",
     "start_time": "2024-05-14T12:27:07.381762800Z"
    }
   },
   "id": "3ad0935034f59980",
   "execution_count": 32
  },
  {
   "cell_type": "code",
   "outputs": [],
   "source": [
    "def absolute"
   ],
   "metadata": {
    "collapsed": false
   },
   "id": "6fb28261ed417f58"
  }
 ],
 "metadata": {
  "kernelspec": {
   "display_name": "Python 3",
   "language": "python",
   "name": "python3"
  },
  "language_info": {
   "codemirror_mode": {
    "name": "ipython",
    "version": 2
   },
   "file_extension": ".py",
   "mimetype": "text/x-python",
   "name": "python",
   "nbconvert_exporter": "python",
   "pygments_lexer": "ipython2",
   "version": "2.7.6"
  }
 },
 "nbformat": 4,
 "nbformat_minor": 5
}
