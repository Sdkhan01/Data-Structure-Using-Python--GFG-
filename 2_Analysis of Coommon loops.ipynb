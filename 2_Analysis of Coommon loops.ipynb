{
 "cells": [
  {
   "cell_type": "markdown",
   "metadata": {},
   "source": [
    "## Analysis of common Loops\n",
    "\n"
   ]
  },
  {
   "cell_type": "code",
   "execution_count": 5,
   "metadata": {},
   "outputs": [
    {
     "ename": "NameError",
     "evalue": "name 'c' is not defined",
     "output_type": "error",
     "traceback": [
      "\u001b[1;31m---------------------------------------------------------------------------\u001b[0m",
      "\u001b[1;31mNameError\u001b[0m                                 Traceback (most recent call last)",
      "Cell \u001b[1;32mIn[5], line 7\u001b[0m\n\u001b[0;32m      5\u001b[0m     \u001b[39mwhile\u001b[39;00m i \u001b[39m<\u001b[39mn:\n\u001b[0;32m      6\u001b[0m         i\u001b[39m=\u001b[39m i\u001b[39m+\u001b[39m c\n\u001b[1;32m----> 7\u001b[0m fun(\u001b[39m8\u001b[39;49m)\n",
      "Cell \u001b[1;32mIn[5], line 6\u001b[0m, in \u001b[0;36mfun\u001b[1;34m(n)\u001b[0m\n\u001b[0;32m      4\u001b[0m i \u001b[39m=\u001b[39m \u001b[39m0\u001b[39m\n\u001b[0;32m      5\u001b[0m \u001b[39mwhile\u001b[39;00m i \u001b[39m<\u001b[39mn:\n\u001b[1;32m----> 6\u001b[0m     i\u001b[39m=\u001b[39m i\u001b[39m+\u001b[39m c\n",
      "\u001b[1;31mNameError\u001b[0m: name 'c' is not defined"
     ]
    }
   ],
   "source": [
    "## first example loop\n",
    "def fun(n):\n",
    "    i = 0\n",
    "    while i <n:\n",
    "        i= i+ c\n",
    "fun(8)"
   ]
  },
  {
   "cell_type": "code",
   "execution_count": 4,
   "metadata": {},
   "outputs": [],
   "source": [
    "def fun(n):\n",
    "    i = n \n",
    "    while i > 0:\n",
    "        i = i - 1\n",
    "fun(11)"
   ]
  },
  {
   "cell_type": "code",
   "execution_count": null,
   "metadata": {},
   "outputs": [],
   "source": []
  }
 ],
 "metadata": {
  "kernelspec": {
   "display_name": "base",
   "language": "python",
   "name": "python3"
  },
  "language_info": {
   "codemirror_mode": {
    "name": "ipython",
    "version": 3
   },
   "file_extension": ".py",
   "mimetype": "text/x-python",
   "name": "python",
   "nbconvert_exporter": "python",
   "pygments_lexer": "ipython3",
   "version": "3.10.10"
  },
  "orig_nbformat": 4
 },
 "nbformat": 4,
 "nbformat_minor": 2
}
