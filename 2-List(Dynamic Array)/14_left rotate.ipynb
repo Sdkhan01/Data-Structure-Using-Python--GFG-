{
 "cells": [
  {
   "cell_type": "code",
   "execution_count": 1,
   "id": "initial_id",
   "metadata": {
    "collapsed": true,
    "ExecuteTime": {
     "end_time": "2024-06-09T02:20:27.091351900Z",
     "start_time": "2024-06-09T02:20:27.082376300Z"
    }
   },
   "outputs": [],
   "source": [
    "## Roatate left"
   ]
  },
  {
   "cell_type": "code",
   "outputs": [
    {
     "data": {
      "text/plain": "[2, 3, 4, 5, 1]"
     },
     "execution_count": 3,
     "metadata": {},
     "output_type": "execute_result"
    }
   ],
   "source": [
    "def rotate(l):\n",
    "    n = len(l)\n",
    "    x = l[0]\n",
    "    for i in range(1,n):\n",
    "        l[i-1] = l[i]\n",
    "    l[n-1] = x\n",
    "    return l\n",
    "rotate([1,2,3,4,5])\n",
    "\n",
    "## Time complexity: O(n)\n",
    "## space complexity: O(1)\n",
    "\n"
   ],
   "metadata": {
    "collapsed": false,
    "ExecuteTime": {
     "end_time": "2024-06-09T02:23:11.991838Z",
     "start_time": "2024-06-09T02:23:11.969894600Z"
    }
   },
   "id": "82f41db614f46454",
   "execution_count": 3
  },
  {
   "cell_type": "code",
   "outputs": [
    {
     "name": "stdout",
     "output_type": "stream",
     "text": [
      "[2, 3, 4, 5, 1]\n"
     ]
    }
   ],
   "source": [
    "## direct methods \n",
    "\n",
    "l = [1,2,3,4,5]\n",
    "l.append(l.pop(0))\n",
    "print(l)\n",
    "\n",
    "l = [1,2,3,4,5]\n",
    "l = l[1:] + l[:1]"
   ],
   "metadata": {
    "collapsed": false,
    "ExecuteTime": {
     "end_time": "2024-06-11T05:05:42.349560Z",
     "start_time": "2024-06-11T05:05:42.328619400Z"
    }
   },
   "id": "4768225dedbe3225",
   "execution_count": 1
  },
  {
   "cell_type": "code",
   "outputs": [
    {
     "name": "stdout",
     "output_type": "stream",
     "text": [
      "fun1() called\n"
     ]
    }
   ],
   "source": [
    "def fun1():\n",
    "    print(\"fun1() called hh\")\n",
    "print(\"fun1() called\")"
   ],
   "metadata": {
    "collapsed": false,
    "ExecuteTime": {
     "end_time": "2024-06-11T05:54:47.177875200Z",
     "start_time": "2024-06-11T05:54:47.159057500Z"
    }
   },
   "id": "6935dd02afbc38d9",
   "execution_count": 4
  },
  {
   "cell_type": "code",
   "outputs": [],
   "source": [
    " "
   ],
   "metadata": {
    "collapsed": false
   },
   "id": "41bbdca1015a74dc"
  }
 ],
 "metadata": {
  "kernelspec": {
   "display_name": "Python 3",
   "language": "python",
   "name": "python3"
  },
  "language_info": {
   "codemirror_mode": {
    "name": "ipython",
    "version": 2
   },
   "file_extension": ".py",
   "mimetype": "text/x-python",
   "name": "python",
   "nbconvert_exporter": "python",
   "pygments_lexer": "ipython2",
   "version": "2.7.6"
  }
 },
 "nbformat": 4,
 "nbformat_minor": 5
}
