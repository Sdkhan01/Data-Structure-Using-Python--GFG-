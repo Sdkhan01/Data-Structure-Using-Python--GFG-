{
 "cells": [
  {
   "cell_type": "markdown",
   "source": [
    "### Slicing (List, Tuple, String)"
   ],
   "metadata": {
    "collapsed": false
   },
   "id": "7d23998058ffc7a9"
  },
  {
   "cell_type": "code",
   "outputs": [
    {
     "data": {
      "text/plain": "[1, 3, 5]"
     },
     "execution_count": 1,
     "metadata": {},
     "output_type": "execute_result"
    }
   ],
   "source": [
    "# Slicing (List, Tuple, String)\n",
    "l = [1, 2, 3, 4, 5, 6, 7, 8, 9, 10]\n",
    "l[:5:2]"
   ],
   "metadata": {
    "collapsed": false,
    "ExecuteTime": {
     "end_time": "2024-05-17T18:06:34.732799500Z",
     "start_time": "2024-05-17T18:06:34.685636400Z"
    }
   },
   "id": "b6c0185ebd4733af",
   "execution_count": 1
  },
  {
   "cell_type": "code",
   "outputs": [
    {
     "data": {
      "text/plain": "[1, 2, 3, 4]"
     },
     "execution_count": 3,
     "metadata": {},
     "output_type": "execute_result"
    }
   ],
   "source": [
    "l[:4]"
   ],
   "metadata": {
    "collapsed": false,
    "ExecuteTime": {
     "end_time": "2024-05-17T18:06:50.671819200Z",
     "start_time": "2024-05-17T18:06:50.648377400Z"
    }
   },
   "id": "1f979e760ad39891",
   "execution_count": 3
  },
  {
   "cell_type": "code",
   "outputs": [
    {
     "data": {
      "text/plain": "[3, 4, 5, 6, 7, 8, 9, 10]"
     },
     "execution_count": 4,
     "metadata": {},
     "output_type": "execute_result"
    }
   ],
   "source": [
    "l[2:]"
   ],
   "metadata": {
    "collapsed": false,
    "ExecuteTime": {
     "end_time": "2024-05-17T18:07:00.434963200Z",
     "start_time": "2024-05-17T18:07:00.414636700Z"
    }
   },
   "id": "c613e54f8b31dff6",
   "execution_count": 4
  },
  {
   "cell_type": "code",
   "outputs": [
    {
     "data": {
      "text/plain": "[5, 4, 3]"
     },
     "execution_count": 5,
     "metadata": {},
     "output_type": "execute_result"
    }
   ],
   "source": [
    "l[4:1:-1]"
   ],
   "metadata": {
    "collapsed": false,
    "ExecuteTime": {
     "end_time": "2024-05-17T18:10:47.850180600Z",
     "start_time": "2024-05-17T18:10:47.805731500Z"
    }
   },
   "id": "d7eef626df2546af",
   "execution_count": 5
  },
  {
   "cell_type": "code",
   "outputs": [
    {
     "data": {
      "text/plain": "[10, 9, 8, 7, 6, 5, 4, 3, 2, 1]"
     },
     "execution_count": 8,
     "metadata": {},
     "output_type": "execute_result"
    }
   ],
   "source": [
    "##to reverse lsit\n",
    "\n",
    "l[::-1]"
   ],
   "metadata": {
    "collapsed": false,
    "ExecuteTime": {
     "end_time": "2024-05-17T18:12:41.118728200Z",
     "start_time": "2024-05-17T18:12:41.090158400Z"
    }
   },
   "id": "9ae42004ebda210f",
   "execution_count": 8
  },
  {
   "cell_type": "code",
   "outputs": [
    {
     "data": {
      "text/plain": "10"
     },
     "execution_count": 10,
     "metadata": {},
     "output_type": "execute_result"
    }
   ],
   "source": [
    "l[-1]"
   ],
   "metadata": {
    "collapsed": false,
    "ExecuteTime": {
     "end_time": "2024-05-17T18:13:37.564027400Z",
     "start_time": "2024-05-17T18:13:37.548958300Z"
    }
   },
   "id": "a7f7965e7781f341",
   "execution_count": 10
  },
  {
   "cell_type": "code",
   "outputs": [
    {
     "data": {
      "text/plain": "[1, 2, 3, 4, 5, 6, 7, 8, 9]"
     },
     "execution_count": 11,
     "metadata": {},
     "output_type": "execute_result"
    }
   ],
   "source": [
    "l[:-1]"
   ],
   "metadata": {
    "collapsed": false,
    "ExecuteTime": {
     "end_time": "2024-05-17T18:14:18.914258100Z",
     "start_time": "2024-05-17T18:14:18.881282100Z"
    }
   },
   "id": "9b7ce8c6521d0181",
   "execution_count": 11
  },
  {
   "cell_type": "code",
   "outputs": [],
   "source": [
    "l1 = [10, 20, 30, 40, 50, 60, 70, 80, 90, 100]\n",
    "l2 = l1[:]"
   ],
   "metadata": {
    "collapsed": false,
    "ExecuteTime": {
     "end_time": "2024-05-17T18:17:22.968665100Z",
     "start_time": "2024-05-17T18:17:22.953688200Z"
    }
   },
   "id": "d59ac0c6e02075c0",
   "execution_count": 12
  },
  {
   "cell_type": "code",
   "outputs": [
    {
     "data": {
      "text/plain": "[10, 20, 30, 40, 50, 60, 70, 80, 90, 100]"
     },
     "execution_count": 13,
     "metadata": {},
     "output_type": "execute_result"
    }
   ],
   "source": [
    "l2"
   ],
   "metadata": {
    "collapsed": false,
    "ExecuteTime": {
     "end_time": "2024-05-17T18:17:26.364612200Z",
     "start_time": "2024-05-17T18:17:26.331814Z"
    }
   },
   "id": "4d5e621994a28efd",
   "execution_count": 13
  },
  {
   "cell_type": "code",
   "outputs": [
    {
     "data": {
      "text/plain": "[10, 20, 30, 40, 50, 60, 70, 80, 90, 100]"
     },
     "execution_count": 14,
     "metadata": {},
     "output_type": "execute_result"
    }
   ],
   "source": [
    "l2=l1.copy()\n",
    "l2"
   ],
   "metadata": {
    "collapsed": false,
    "ExecuteTime": {
     "end_time": "2024-05-17T18:17:45.669696300Z",
     "start_time": "2024-05-17T18:17:45.632493Z"
    }
   },
   "id": "8e6619d865f3b195",
   "execution_count": 14
  },
  {
   "cell_type": "code",
   "outputs": [
    {
     "data": {
      "text/plain": "[10, 20, 30, 40, 50, 60, 70, 80, 90, 100]"
     },
     "execution_count": 15,
     "metadata": {},
     "output_type": "execute_result"
    }
   ],
   "source": [
    "l2=l1\n",
    "l2"
   ],
   "metadata": {
    "collapsed": false,
    "ExecuteTime": {
     "end_time": "2024-05-17T18:17:53.003180700Z",
     "start_time": "2024-05-17T18:17:52.972449900Z"
    }
   },
   "id": "d037ae41d8cd9d96",
   "execution_count": 15
  },
  {
   "cell_type": "code",
   "outputs": [],
   "source": [
    "l1[0]=1000"
   ],
   "metadata": {
    "collapsed": false,
    "ExecuteTime": {
     "end_time": "2024-05-17T18:17:59.638112500Z",
     "start_time": "2024-05-17T18:17:59.615969800Z"
    }
   },
   "id": "d33e13b8be108490",
   "execution_count": 16
  },
  {
   "cell_type": "code",
   "outputs": [
    {
     "data": {
      "text/plain": "[1000, 20, 30, 40, 50, 60, 70, 80, 90, 100]"
     },
     "execution_count": 17,
     "metadata": {},
     "output_type": "execute_result"
    }
   ],
   "source": [
    "l1"
   ],
   "metadata": {
    "collapsed": false,
    "ExecuteTime": {
     "end_time": "2024-05-17T18:18:11.527360100Z",
     "start_time": "2024-05-17T18:18:11.488501300Z"
    }
   },
   "id": "285f375e293abc54",
   "execution_count": 17
  },
  {
   "cell_type": "code",
   "outputs": [],
   "source": [],
   "metadata": {
    "collapsed": false,
    "ExecuteTime": {
     "end_time": "2024-05-17T18:18:03.267814700Z",
     "start_time": "2024-05-17T18:18:03.252988100Z"
    }
   },
   "id": "ffb00e4327c8c144",
   "execution_count": 16
  },
  {
   "cell_type": "code",
   "outputs": [],
   "source": [
    "t1=(10, 20, 30, 40, 50, 60, 70, 80, 90, 100)\n",
    "t2=t1[:]"
   ],
   "metadata": {
    "collapsed": false,
    "ExecuteTime": {
     "end_time": "2024-05-17T18:18:41.077253500Z",
     "start_time": "2024-05-17T18:18:41.034021600Z"
    }
   },
   "id": "483a66cd2f06793d",
   "execution_count": 18
  },
  {
   "cell_type": "code",
   "outputs": [
    {
     "data": {
      "text/plain": "(10, 20, 30, 40, 50, 60, 70, 80, 90, 100)"
     },
     "execution_count": 19,
     "metadata": {},
     "output_type": "execute_result"
    }
   ],
   "source": [
    "t2"
   ],
   "metadata": {
    "collapsed": false,
    "ExecuteTime": {
     "end_time": "2024-05-17T18:18:43.696509100Z",
     "start_time": "2024-05-17T18:18:43.672603300Z"
    }
   },
   "id": "c9543674471aa860",
   "execution_count": 19
  },
  {
   "cell_type": "code",
   "outputs": [
    {
     "ename": "AttributeError",
     "evalue": "'tuple' object has no attribute 'copy'",
     "output_type": "error",
     "traceback": [
      "\u001B[1;31m---------------------------------------------------------------------------\u001B[0m",
      "\u001B[1;31mAttributeError\u001B[0m                            Traceback (most recent call last)",
      "Cell \u001B[1;32mIn[20], line 1\u001B[0m\n\u001B[1;32m----> 1\u001B[0m t2\u001B[38;5;241m=\u001B[39m\u001B[43mt1\u001B[49m\u001B[38;5;241;43m.\u001B[39;49m\u001B[43mcopy\u001B[49m()\n",
      "\u001B[1;31mAttributeError\u001B[0m: 'tuple' object has no attribute 'copy'"
     ]
    }
   ],
   "source": [
    "t2=t1.copy()"
   ],
   "metadata": {
    "collapsed": false,
    "ExecuteTime": {
     "end_time": "2024-05-17T18:18:48.940187200Z",
     "start_time": "2024-05-17T18:18:48.391258Z"
    }
   },
   "id": "96ef282d099791b2",
   "execution_count": 20
  },
  {
   "cell_type": "code",
   "outputs": [],
   "source": [
    "s1 = 'Python Programming'\n",
    "s2 = s1[:]"
   ],
   "metadata": {
    "collapsed": false,
    "ExecuteTime": {
     "end_time": "2024-05-17T18:19:33.106247900Z",
     "start_time": "2024-05-17T18:19:33.073270100Z"
    }
   },
   "id": "c2775f4fe6f972f2",
   "execution_count": 22
  },
  {
   "cell_type": "code",
   "outputs": [
    {
     "data": {
      "text/plain": "'Python Programming'"
     },
     "execution_count": 23,
     "metadata": {},
     "output_type": "execute_result"
    }
   ],
   "source": [
    "s2"
   ],
   "metadata": {
    "collapsed": false,
    "ExecuteTime": {
     "end_time": "2024-05-17T18:19:35.808432Z",
     "start_time": "2024-05-17T18:19:35.764464900Z"
    }
   },
   "id": "45c66970a0d144e2",
   "execution_count": 23
  },
  {
   "cell_type": "code",
   "outputs": [
    {
     "ename": "AttributeError",
     "evalue": "'str' object has no attribute 'copy'",
     "output_type": "error",
     "traceback": [
      "\u001B[1;31m---------------------------------------------------------------------------\u001B[0m",
      "\u001B[1;31mAttributeError\u001B[0m                            Traceback (most recent call last)",
      "Cell \u001B[1;32mIn[24], line 1\u001B[0m\n\u001B[1;32m----> 1\u001B[0m s2\u001B[38;5;241m=\u001B[39m\u001B[43ms1\u001B[49m\u001B[38;5;241;43m.\u001B[39;49m\u001B[43mcopy\u001B[49m()\n",
      "\u001B[1;31mAttributeError\u001B[0m: 'str' object has no attribute 'copy'"
     ]
    }
   ],
   "source": [
    "s2=s1.copy()"
   ],
   "metadata": {
    "collapsed": false,
    "ExecuteTime": {
     "end_time": "2024-05-17T18:19:38.594486900Z",
     "start_time": "2024-05-17T18:19:38.558903900Z"
    }
   },
   "id": "d88d4c5365a69c29",
   "execution_count": 24
  },
  {
   "cell_type": "code",
   "outputs": [
    {
     "data": {
      "text/plain": "[10, 20, 30, 40, 50, 60, 70, 80, 90, 100]"
     },
     "execution_count": 28,
     "metadata": {},
     "output_type": "execute_result"
    }
   ],
   "source": [
    "l3 = [10, 20, 30, 40, 50, 60, 70, 80, 90, 100]\n",
    "l4 = l3[:]\n",
    "l3 "
   ],
   "metadata": {
    "collapsed": false,
    "ExecuteTime": {
     "end_time": "2024-05-17T18:21:50.645701700Z",
     "start_time": "2024-05-17T18:21:50.590669200Z"
    }
   },
   "id": "99e84bfcde991bc9",
   "execution_count": 28
  },
  {
   "cell_type": "code",
   "outputs": [
    {
     "name": "stdout",
     "output_type": "stream",
     "text": [
      "False\n",
      "True\n",
      "True\n"
     ]
    }
   ],
   "source": [
    "print(l3 is l4)\n",
    "print(t1 is t2)\n",
    "print(s1 is s2)"
   ],
   "metadata": {
    "collapsed": false,
    "ExecuteTime": {
     "end_time": "2024-05-17T18:21:10.390843500Z",
     "start_time": "2024-05-17T18:21:10.378134Z"
    }
   },
   "id": "1686fa5e2fb2c417",
   "execution_count": 27
  },
  {
   "cell_type": "code",
   "outputs": [
    {
     "ename": "SyntaxError",
     "evalue": "invalid syntax (2108498156.py, line 3)",
     "output_type": "error",
     "traceback": [
      "\u001B[1;36m  Cell \u001B[1;32mIn[29], line 3\u001B[1;36m\u001B[0m\n\u001B[1;33m    Difference between copy and slicing is that in slicing the new object is created and in copy the\u001B[0m\n\u001B[1;37m               ^\u001B[0m\n\u001B[1;31mSyntaxError\u001B[0m\u001B[1;31m:\u001B[0m invalid syntax\n"
     ]
    }
   ],
   "source": [
    "## Here the difference between copy and slicing is that in slicing the new object is created and in copy the reference is created\n",
    "\n",
    "Difference between copy and slicing is that in slicing the new object is created and in copy the\n",
    "if reference is created:\n",
    "    \n",
    "## difference between list tuple and string is that when we use slicing in list and tuple the new object is created but in string the reference is created,Example is given below:\n"
   ],
   "metadata": {
    "collapsed": false,
    "ExecuteTime": {
     "end_time": "2024-05-17T18:24:43.867862400Z",
     "start_time": "2024-05-17T18:24:43.811502100Z"
    }
   },
   "id": "f21235a799d971a2",
   "execution_count": 29
  },
  {
   "cell_type": "code",
   "outputs": [],
   "source": [
    "l1 = [10, 20, 30, 40, 50, 60, 70, 80, 90, 100]\n",
    "l2 = l1[:]\n"
   ],
   "metadata": {
    "collapsed": false,
    "ExecuteTime": {
     "end_time": "2024-05-17T18:24:50.778007200Z",
     "start_time": "2024-05-17T18:24:50.753095800Z"
    }
   },
   "id": "bfa6ad93c4584b01",
   "execution_count": 30
  },
  {
   "cell_type": "code",
   "outputs": [],
   "source": [
    "l1[0] = 1000"
   ],
   "metadata": {
    "collapsed": false,
    "ExecuteTime": {
     "end_time": "2024-05-17T18:24:54.920694700Z",
     "start_time": "2024-05-17T18:24:54.892380800Z"
    }
   },
   "id": "344642f0c6b49b53",
   "execution_count": 31
  },
  {
   "cell_type": "code",
   "outputs": [
    {
     "data": {
      "text/plain": "[1000, 20, 30, 40, 50, 60, 70, 80, 90, 100]"
     },
     "execution_count": 32,
     "metadata": {},
     "output_type": "execute_result"
    }
   ],
   "source": [
    "l1"
   ],
   "metadata": {
    "collapsed": false,
    "ExecuteTime": {
     "end_time": "2024-05-17T18:24:56.889856700Z",
     "start_time": "2024-05-17T18:24:56.838851700Z"
    }
   },
   "id": "475407be6545331c",
   "execution_count": 32
  },
  {
   "cell_type": "code",
   "outputs": [
    {
     "data": {
      "text/plain": "[10, 20, 30, 40, 50, 60, 70, 80, 90, 100]"
     },
     "execution_count": 33,
     "metadata": {},
     "output_type": "execute_result"
    }
   ],
   "source": [
    "l2"
   ],
   "metadata": {
    "collapsed": false,
    "ExecuteTime": {
     "end_time": "2024-05-17T18:24:58.765516500Z",
     "start_time": "2024-05-17T18:24:58.731986900Z"
    }
   },
   "id": "ad5d9c796790214d",
   "execution_count": 33
  },
  {
   "cell_type": "code",
   "outputs": [],
   "source": [
    "t1 = (10, 20, 30, 40, 50, 60, 70, 80, 90, 100)"
   ],
   "metadata": {
    "collapsed": false,
    "ExecuteTime": {
     "end_time": "2024-05-17T18:25:01.668565100Z",
     "start_time": "2024-05-17T18:25:01.642106900Z"
    }
   },
   "id": "3cbe7005ae3565b0",
   "execution_count": 34
  },
  {
   "cell_type": "code",
   "outputs": [],
   "source": [
    "t2 = t1[:]"
   ],
   "metadata": {
    "collapsed": false,
    "ExecuteTime": {
     "end_time": "2024-05-17T18:25:03.374203400Z",
     "start_time": "2024-05-17T18:25:03.340419600Z"
    }
   },
   "id": "dd11f939ee662e72",
   "execution_count": 35
  },
  {
   "cell_type": "code",
   "outputs": [
    {
     "ename": "TypeError",
     "evalue": "'tuple' object does not support item assignment",
     "output_type": "error",
     "traceback": [
      "\u001B[1;31m---------------------------------------------------------------------------\u001B[0m",
      "\u001B[1;31mTypeError\u001B[0m                                 Traceback (most recent call last)",
      "Cell \u001B[1;32mIn[36], line 1\u001B[0m\n\u001B[1;32m----> 1\u001B[0m \u001B[43mt1\u001B[49m\u001B[43m[\u001B[49m\u001B[38;5;241;43m0\u001B[39;49m\u001B[43m]\u001B[49m \u001B[38;5;241m=\u001B[39m \u001B[38;5;241m1000\u001B[39m\n",
      "\u001B[1;31mTypeError\u001B[0m: 'tuple' object does not support item assignment"
     ]
    }
   ],
   "source": [
    "t1[0] = 1000"
   ],
   "metadata": {
    "collapsed": false,
    "ExecuteTime": {
     "end_time": "2024-05-17T18:25:05.050851900Z",
     "start_time": "2024-05-17T18:25:05.015918Z"
    }
   },
   "id": "f809fe43578a0068",
   "execution_count": 36
  },
  {
   "cell_type": "code",
   "outputs": [
    {
     "data": {
      "text/plain": "(10, 20, 30, 40, 50, 60, 70, 80, 90, 100)"
     },
     "execution_count": 37,
     "metadata": {},
     "output_type": "execute_result"
    }
   ],
   "source": [
    "t1"
   ],
   "metadata": {
    "collapsed": false,
    "ExecuteTime": {
     "end_time": "2024-05-17T18:25:13.236584200Z",
     "start_time": "2024-05-17T18:25:13.202871300Z"
    }
   },
   "id": "aa4ff6be673b9431",
   "execution_count": 37
  },
  {
   "cell_type": "code",
   "outputs": [
    {
     "data": {
      "text/plain": "(10, 20, 30, 40, 50, 60, 70, 80, 90, 100)"
     },
     "execution_count": 38,
     "metadata": {},
     "output_type": "execute_result"
    }
   ],
   "source": [
    "t2"
   ],
   "metadata": {
    "collapsed": false,
    "ExecuteTime": {
     "end_time": "2024-05-17T18:25:19.233193700Z",
     "start_time": "2024-05-17T18:25:19.193188300Z"
    }
   },
   "id": "126371119c404fa0",
   "execution_count": 38
  },
  {
   "cell_type": "code",
   "outputs": [],
   "source": [
    "s1 = 'Python Programming'"
   ],
   "metadata": {
    "collapsed": false,
    "ExecuteTime": {
     "end_time": "2024-05-17T18:25:23.134924100Z",
     "start_time": "2024-05-17T18:25:23.101479Z"
    }
   },
   "id": "5c46209993a92bc1",
   "execution_count": 39
  },
  {
   "cell_type": "code",
   "outputs": [],
   "source": [
    "s2 = s1[:]"
   ],
   "metadata": {
    "collapsed": false,
    "ExecuteTime": {
     "end_time": "2024-05-17T18:25:24.726967400Z",
     "start_time": "2024-05-17T18:25:24.679391900Z"
    }
   },
   "id": "8cdae0fe2fe97835",
   "execution_count": 40
  },
  {
   "cell_type": "code",
   "outputs": [
    {
     "ename": "TypeError",
     "evalue": "'str' object does not support item assignment",
     "output_type": "error",
     "traceback": [
      "\u001B[1;31m---------------------------------------------------------------------------\u001B[0m",
      "\u001B[1;31mTypeError\u001B[0m                                 Traceback (most recent call last)",
      "Cell \u001B[1;32mIn[41], line 1\u001B[0m\n\u001B[1;32m----> 1\u001B[0m \u001B[43ms1\u001B[49m\u001B[43m[\u001B[49m\u001B[38;5;241;43m0\u001B[39;49m\u001B[43m]\u001B[49m \u001B[38;5;241m=\u001B[39m \u001B[38;5;124m'\u001B[39m\u001B[38;5;124mJ\u001B[39m\u001B[38;5;124m'\u001B[39m\n",
      "\u001B[1;31mTypeError\u001B[0m: 'str' object does not support item assignment"
     ]
    }
   ],
   "source": [
    "s1[0] = 'J'"
   ],
   "metadata": {
    "collapsed": false,
    "ExecuteTime": {
     "end_time": "2024-05-17T18:25:26.541682500Z",
     "start_time": "2024-05-17T18:25:26.503493Z"
    }
   },
   "id": "17e58c4d170e9e53",
   "execution_count": 41
  },
  {
   "cell_type": "code",
   "outputs": [
    {
     "data": {
      "text/plain": "'Python Programming'"
     },
     "execution_count": 42,
     "metadata": {},
     "output_type": "execute_result"
    }
   ],
   "source": [
    "s1"
   ],
   "metadata": {
    "collapsed": false,
    "ExecuteTime": {
     "end_time": "2024-05-17T18:25:29.778892Z",
     "start_time": "2024-05-17T18:25:29.710765Z"
    }
   },
   "id": "8aa3974395f87130",
   "execution_count": 42
  },
  {
   "cell_type": "code",
   "outputs": [
    {
     "data": {
      "text/plain": "'Python Programming'"
     },
     "execution_count": 43,
     "metadata": {},
     "output_type": "execute_result"
    }
   ],
   "source": [
    "s2"
   ],
   "metadata": {
    "collapsed": false,
    "ExecuteTime": {
     "end_time": "2024-05-17T18:25:32.475545Z",
     "start_time": "2024-05-17T18:25:32.443227800Z"
    }
   },
   "id": "5d752cba4581e56c",
   "execution_count": 43
  },
  {
   "cell_type": "code",
   "outputs": [],
   "source": [
    "## as we can see that in list and tuple the new object is created but in string the reference is created.\n",
    "#reference is created in string because string is immutable and list and tuple are mutable.\n",
    "## In string the reference is created because string is immutable and in list and tuple the new object is created because list and tuple are mutable."
   ],
   "metadata": {
    "collapsed": false
   },
   "id": "ea0a60fe926dcf1b"
  }
 ],
 "metadata": {
  "kernelspec": {
   "display_name": "Python 3",
   "language": "python",
   "name": "python3"
  },
  "language_info": {
   "codemirror_mode": {
    "name": "ipython",
    "version": 2
   },
   "file_extension": ".py",
   "mimetype": "text/x-python",
   "name": "python",
   "nbconvert_exporter": "python",
   "pygments_lexer": "ipython2",
   "version": "2.7.6"
  }
 },
 "nbformat": 4,
 "nbformat_minor": 5
}
