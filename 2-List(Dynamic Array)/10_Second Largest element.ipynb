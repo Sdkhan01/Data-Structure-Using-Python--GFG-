{
 "cells": [
  {
   "cell_type": "markdown",
   "source": [],
   "metadata": {
    "collapsed": false
   },
   "id": "cf50b9a4bf7a91e"
  },
  {
   "cell_type": "code",
   "execution_count": 37,
   "id": "initial_id",
   "metadata": {
    "collapsed": true,
    "ExecuteTime": {
     "end_time": "2024-05-18T05:53:20.646815400Z",
     "start_time": "2024-05-18T05:53:20.636990500Z"
    }
   },
   "outputs": [
    {
     "name": "stdout",
     "output_type": "stream",
     "text": [
      "8\n"
     ]
    }
   ],
   "source": [
    "### ## itt wil fail when first element is the largest element\n",
    "### if we want to find the second largest element in the array\n",
    "def second_largest(lst):\n",
    "    if not lst:\n",
    "        return None\n",
    "    else:\n",
    "        largest = lst[0]\n",
    "        second = None\n",
    "        for i in lst[1:]:\n",
    "            if i > largest:\n",
    "                second = largest\n",
    "                largest = i\n",
    "            elif i <= largest:\n",
    "                if second is None or  i > second: ## if second is None or i > second this like made program run\n",
    "                    second = i\n",
    "        return second\n",
    "lst = [1, 2, 3, 4, 5, 6, 7, 8, 9]\n",
    "print(second_largest(lst))\n",
    "#time complexity is O(n)"
   ]
  },
  {
   "cell_type": "code",
   "outputs": [
    {
     "name": "stdout",
     "output_type": "stream",
     "text": [
      "80\n"
     ]
    }
   ],
   "source": [
    "lst=[107,55,80]\n",
    "print(second_largest(lst))\n"
   ],
   "metadata": {
    "collapsed": false,
    "ExecuteTime": {
     "end_time": "2024-05-18T05:53:28.270606600Z",
     "start_time": "2024-05-18T05:53:28.255307600Z"
    }
   },
   "id": "d1605c9e899ce2ad",
   "execution_count": 38
  },
  {
   "cell_type": "code",
   "outputs": [],
   "source": [
    "## Effiecient way to find the second largest element in the array with one traversal\n",
    "\n",
    "def sec_max(l):\n",
    "    if len(l)<=1:\n",
    "        return None\n",
    "    largest = l[0]\n",
    "    second = None\n",
    "    for i in l[1:]:# 1: means from 1 to end\n",
    "        if i > largest:\n",
    "            second = largest\n",
    "            largest = i\n",
    "        elif i <= largest:\n",
    "            if second is None or i > second:\n",
    "                second = i\n",
    "    return second\n",
    "    "
   ],
   "metadata": {
    "collapsed": false,
    "ExecuteTime": {
     "end_time": "2024-05-18T05:50:01.172151200Z",
     "start_time": "2024-05-18T05:50:01.156178900Z"
    }
   },
   "id": "1335d580d63d0317",
   "execution_count": 29
  },
  {
   "cell_type": "code",
   "outputs": [
    {
     "name": "stdout",
     "output_type": "stream",
     "text": [
      "8\n"
     ]
    }
   ],
   "source": [
    "l = [1, 2, 3, 4, 5, 6, 7, 8, 9]\n",
    "print(sec_max(l))\n",
    "\n"
   ],
   "metadata": {
    "collapsed": false,
    "ExecuteTime": {
     "end_time": "2024-05-18T05:50:16.048577300Z",
     "start_time": "2024-05-18T05:50:16.017958800Z"
    }
   },
   "id": "75d22659d29d371",
   "execution_count": 30
  },
  {
   "cell_type": "code",
   "outputs": [
    {
     "name": "stdout",
     "output_type": "stream",
     "text": [
      "80\n"
     ]
    }
   ],
   "source": [
    "l = [99,80, 9, 80]\n",
    "print(sec_max(l))"
   ],
   "metadata": {
    "collapsed": false,
    "ExecuteTime": {
     "end_time": "2024-05-18T05:50:51.149199300Z",
     "start_time": "2024-05-18T05:50:51.140157100Z"
    }
   },
   "id": "110e862012f3e82f",
   "execution_count": 33
  },
  {
   "cell_type": "code",
   "outputs": [],
   "source": [],
   "metadata": {
    "collapsed": false
   },
   "id": "ccbccba7ac965b5e"
  }
 ],
 "metadata": {
  "kernelspec": {
   "display_name": "Python 3",
   "language": "python",
   "name": "python3"
  },
  "language_info": {
   "codemirror_mode": {
    "name": "ipython",
    "version": 2
   },
   "file_extension": ".py",
   "mimetype": "text/x-python",
   "name": "python",
   "nbconvert_exporter": "python",
   "pygments_lexer": "ipython2",
   "version": "2.7.6"
  }
 },
 "nbformat": 4,
 "nbformat_minor": 5
}
