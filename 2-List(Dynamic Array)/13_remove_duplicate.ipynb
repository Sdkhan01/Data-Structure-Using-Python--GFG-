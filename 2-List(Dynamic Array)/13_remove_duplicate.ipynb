{
 "cells": [
  {
   "cell_type": "code",
   "execution_count": 1,
   "id": "initial_id",
   "metadata": {
    "collapsed": true,
    "ExecuteTime": {
     "end_time": "2024-06-09T02:07:17.871189500Z",
     "start_time": "2024-06-09T02:07:17.857219300Z"
    }
   },
   "outputs": [
    {
     "data": {
      "text/plain": "5"
     },
     "execution_count": 1,
     "metadata": {},
     "output_type": "execute_result"
    }
   ],
   "source": [
    "def remdup(arr , n):\n",
    "    res = 1\n",
    "    for i in range(1,n):\n",
    "        if arr[res-1] != arr[i]:\n",
    "            arr[res] = arr[i]\n",
    "            res = res+1\n",
    "    return res\n",
    "remdup([1,2,2,3,4,4,4,5,5],9)\n",
    "    "
   ]
  },
  {
   "cell_type": "code",
   "outputs": [],
   "source": [
    "# Path: 13_remove_duplicate.ipynb\n",
    "\n",
    "def remdup(arr , n):\n",
    "    "
   ],
   "metadata": {
    "collapsed": false
   },
   "id": "543dabe6acef9abd"
  }
 ],
 "metadata": {
  "kernelspec": {
   "display_name": "Python 3",
   "language": "python",
   "name": "python3"
  },
  "language_info": {
   "codemirror_mode": {
    "name": "ipython",
    "version": 2
   },
   "file_extension": ".py",
   "mimetype": "text/x-python",
   "name": "python",
   "nbconvert_exporter": "python",
   "pygments_lexer": "ipython2",
   "version": "2.7.6"
  }
 },
 "nbformat": 4,
 "nbformat_minor": 5
}
