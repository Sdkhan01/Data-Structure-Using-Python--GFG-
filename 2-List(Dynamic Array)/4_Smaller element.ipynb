{
 "cells": [
  {
   "cell_type": "markdown",
   "source": [
    "## Smaller element\n",
    "Given an array of integers, for each element find the number of elements that are smaller than it."
   ],
   "metadata": {
    "collapsed": false
   },
   "id": "f9475472f6444aa2"
  },
  {
   "cell_type": "code",
   "outputs": [],
   "source": [
    "def smaller(l,x):\n",
    "    res = []\n",
    "    for i in l:\n",
    "        if i<x:\n",
    "            res.append(i)\n",
    "    return res\n"
   ],
   "metadata": {
    "collapsed": false,
    "ExecuteTime": {
     "end_time": "2024-05-16T19:01:49.059064900Z",
     "start_time": "2024-05-16T19:01:49.037264500Z"
    }
   },
   "id": "ba2ecc8b3da7968d",
   "execution_count": 4
  },
  {
   "cell_type": "code",
   "outputs": [],
   "source": [
    "l = [8,1,2,2,3]"
   ],
   "metadata": {
    "collapsed": false,
    "ExecuteTime": {
     "end_time": "2024-05-16T19:01:50.054682300Z",
     "start_time": "2024-05-16T19:01:50.042533300Z"
    }
   },
   "id": "b9dd386134fa1e60",
   "execution_count": 5
  },
  {
   "cell_type": "code",
   "outputs": [
    {
     "data": {
      "text/plain": "[1, 2, 2, 3]"
     },
     "execution_count": 6,
     "metadata": {},
     "output_type": "execute_result"
    }
   ],
   "source": [
    "smaller(l,8)"
   ],
   "metadata": {
    "collapsed": false,
    "ExecuteTime": {
     "end_time": "2024-05-16T19:01:51.574247600Z",
     "start_time": "2024-05-16T19:01:51.541926100Z"
    }
   },
   "id": "8f88056735753782",
   "execution_count": 6
  },
  {
   "cell_type": "code",
   "outputs": [],
   "source": [],
   "metadata": {
    "collapsed": false
   },
   "id": "5c34addbc5d885af"
  }
 ],
 "metadata": {
  "kernelspec": {
   "display_name": "Python 3",
   "language": "python",
   "name": "python3"
  },
  "language_info": {
   "codemirror_mode": {
    "name": "ipython",
    "version": 2
   },
   "file_extension": ".py",
   "mimetype": "text/x-python",
   "name": "python",
   "nbconvert_exporter": "python",
   "pygments_lexer": "ipython2",
   "version": "2.7.6"
  }
 },
 "nbformat": 4,
 "nbformat_minor": 5
}
