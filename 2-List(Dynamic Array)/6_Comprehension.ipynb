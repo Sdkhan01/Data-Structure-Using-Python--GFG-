<<<<<<< HEAD
{
 "cells": [
  {
   "cell_type": "markdown",
   "source": [
    "## Comprehension in Python"
   ],
   "metadata": {
    "collapsed": false
   },
   "id": "c3f62eed097deedf"
  },
  {
   "cell_type": "code",
   "outputs": [
    {
     "data": {
      "text/plain": "[0, 1, 2, 3, 4, 5, 6, 7, 8, 9, 10]"
     },
     "execution_count": 1,
     "metadata": {},
     "output_type": "execute_result"
    }
   ],
   "source": [
    "# List comprehension\n",
    "l1 = [i for i in range(11)]\n",
    "l1"
   ],
   "metadata": {
    "collapsed": false,
    "ExecuteTime": {
     "end_time": "2024-05-18T02:30:47.524356Z",
     "start_time": "2024-05-18T02:30:47.496018200Z"
    }
   },
   "id": "21dfd6a1d8892b5f",
   "execution_count": 1
  },
  {
   "cell_type": "code",
   "outputs": [
    {
     "data": {
      "text/plain": "[0, 1, 2, 3, 4, 5, 6, 7, 8, 9]"
     },
     "execution_count": 2,
     "metadata": {},
     "output_type": "execute_result"
    }
   ],
   "source": [
    "[x for x in range (10)]"
   ],
   "metadata": {
    "collapsed": false,
    "ExecuteTime": {
     "end_time": "2024-05-18T02:31:24.298361900Z",
     "start_time": "2024-05-18T02:31:24.247136600Z"
    }
   },
   "id": "46a4b5ff6a49ad4e",
   "execution_count": 2
  },
  {
   "cell_type": "code",
   "outputs": [
    {
     "data": {
      "text/plain": "[1, 2, 3, 4, 5, 6, 7, 8, 9, 10]"
     },
     "execution_count": 4,
     "metadata": {},
     "output_type": "execute_result"
    }
   ],
   "source": [
    "[x for x in range(1,11)]"
   ],
   "metadata": {
    "collapsed": false,
    "ExecuteTime": {
     "end_time": "2024-05-18T02:31:56.927171700Z",
     "start_time": "2024-05-18T02:31:56.887451600Z"
    }
   },
   "id": "b2792fbe7ea3a0f0",
   "execution_count": 4
  },
  {
   "cell_type": "code",
   "outputs": [],
   "source": [
    "l2 =[x for x in range(1,11) if x%2==0] # even numbers"
   ],
   "metadata": {
    "collapsed": false,
    "ExecuteTime": {
     "end_time": "2024-05-18T02:32:56.833556700Z",
     "start_time": "2024-05-18T02:32:56.779310600Z"
    }
   },
   "id": "8abd91fba7a2540a",
   "execution_count": 5
  },
  {
   "cell_type": "code",
   "outputs": [
    {
     "data": {
      "text/plain": "[2, 4, 6, 8, 10]"
     },
     "execution_count": 6,
     "metadata": {},
     "output_type": "execute_result"
    }
   ],
   "source": [
    "l2"
   ],
   "metadata": {
    "collapsed": false,
    "ExecuteTime": {
     "end_time": "2024-05-18T02:32:59.999184100Z",
     "start_time": "2024-05-18T02:32:59.954213100Z"
    }
   },
   "id": "dd7204fac58c0a70",
   "execution_count": 6
  },
  {
   "cell_type": "code",
   "outputs": [],
   "source": [
    "l3 = [x for x in range(1,11) if x%2 != 0]"
   ],
   "metadata": {
    "collapsed": false,
    "ExecuteTime": {
     "end_time": "2024-05-18T02:34:13.980641900Z",
     "start_time": "2024-05-18T02:34:13.950315Z"
    }
   },
   "id": "5d0c72ffa9e83bc4",
   "execution_count": 10
  },
  {
   "cell_type": "code",
   "outputs": [
    {
     "data": {
      "text/plain": "[1, 3, 5, 7, 9]"
     },
     "execution_count": 11,
     "metadata": {},
     "output_type": "execute_result"
    }
   ],
   "source": [
    "l3"
   ],
   "metadata": {
    "collapsed": false,
    "ExecuteTime": {
     "end_time": "2024-05-18T02:34:14.719105200Z",
     "start_time": "2024-05-18T02:34:14.684269Z"
    }
   },
   "id": "3f407752c99f95ef",
   "execution_count": 11
  },
  {
   "cell_type": "code",
   "outputs": [],
   "source": [
    "def list(l):\n",
    "    return[x for x in range(1,l+1)if x%2!=0]\n",
    "#odd numbers\n"
   ],
   "metadata": {
    "collapsed": false,
    "ExecuteTime": {
     "end_time": "2024-05-18T02:37:29.160251Z",
     "start_time": "2024-05-18T02:37:29.147338500Z"
    }
   },
   "id": "873c830f87172b16",
   "execution_count": 21
  },
  {
   "cell_type": "code",
   "outputs": [
    {
     "data": {
      "text/plain": "[1, 3, 5, 7, 9, 11, 13, 15, 17, 19, 21, 23, 25]"
     },
     "execution_count": 22,
     "metadata": {},
     "output_type": "execute_result"
    }
   ],
   "source": [
    "list(25)"
   ],
   "metadata": {
    "collapsed": false,
    "ExecuteTime": {
     "end_time": "2024-05-18T02:37:29.678038800Z",
     "start_time": "2024-05-18T02:37:29.651877500Z"
    }
   },
   "id": "f2f746238d90338",
   "execution_count": 22
  },
  {
   "cell_type": "code",
   "outputs": [],
   "source": [
    "def list1(l):\n",
    "    even = [x for x in range(1,l+1) if x%2==0]\n",
    "    odd = [x for x in range(1,l+1) if x%2!=0]\n",
    "    return even,odd"
   ],
   "metadata": {
    "collapsed": false,
    "ExecuteTime": {
     "end_time": "2024-05-18T02:43:35.577916300Z",
     "start_time": "2024-05-18T02:43:35.553629400Z"
    }
   },
   "id": "7186126eb24be52e",
   "execution_count": 24
  },
  {
   "cell_type": "code",
   "outputs": [],
   "source": [
    "even,odd = list1(25)"
   ],
   "metadata": {
    "collapsed": false,
    "ExecuteTime": {
     "end_time": "2024-05-18T02:44:01.091567300Z",
     "start_time": "2024-05-18T02:44:01.084753Z"
    }
   },
   "id": "208001ec01ee8e5c",
   "execution_count": 27
  },
  {
   "cell_type": "code",
   "outputs": [
    {
     "data": {
      "text/plain": "[2, 4, 6, 8, 10, 12, 14, 16, 18, 20, 22, 24]"
     },
     "execution_count": 28,
     "metadata": {},
     "output_type": "execute_result"
    }
   ],
   "source": [
    "even"
   ],
   "metadata": {
    "collapsed": false,
    "ExecuteTime": {
     "end_time": "2024-05-18T02:44:05.621006600Z",
     "start_time": "2024-05-18T02:44:05.597937700Z"
    }
   },
   "id": "ebffa62487f794ea",
   "execution_count": 28
  },
  {
   "cell_type": "code",
   "outputs": [
    {
     "data": {
      "text/plain": "[1, 3, 5, 7, 9, 11, 13, 15, 17, 19, 21, 23, 25]"
     },
     "execution_count": 29,
     "metadata": {},
     "output_type": "execute_result"
    }
   ],
   "source": [
    "odd"
   ],
   "metadata": {
    "collapsed": false,
    "ExecuteTime": {
     "end_time": "2024-05-18T02:44:08.485718900Z",
     "start_time": "2024-05-18T02:44:08.461264800Z"
    }
   },
   "id": "dfc350bba5b07b7a",
   "execution_count": 29
  },
  {
   "cell_type": "code",
   "outputs": [],
   "source": [
    "#smaller number\n",
    "def smaller(l,n):\n",
    "    return [x for x in range(1,l+1) if x <n]"
   ],
   "metadata": {
    "collapsed": false,
    "ExecuteTime": {
     "end_time": "2024-05-18T02:45:51.368014400Z",
     "start_time": "2024-05-18T02:45:51.330287100Z"
    }
   },
   "id": "c618e7dff8f011db",
   "execution_count": 30
  },
  {
   "cell_type": "code",
   "outputs": [
    {
     "data": {
      "text/plain": "[1, 2, 3, 4, 5, 6, 7, 8, 9]"
     },
     "execution_count": 31,
     "metadata": {},
     "output_type": "execute_result"
    }
   ],
   "source": [
    "smaller(25,10)"
   ],
   "metadata": {
    "collapsed": false,
    "ExecuteTime": {
     "end_time": "2024-05-18T02:45:54.747126800Z",
     "start_time": "2024-05-18T02:45:54.705638300Z"
    }
   },
   "id": "22e0064610e06a8d",
   "execution_count": 31
  },
  {
   "cell_type": "code",
   "outputs": [],
   "source": [],
   "metadata": {
    "collapsed": false
   },
   "id": "24ad4931710e2d2e"
  }
 ],
 "metadata": {
  "kernelspec": {
   "display_name": "Python 3",
   "language": "python",
   "name": "python3"
  },
  "language_info": {
   "codemirror_mode": {
    "name": "ipython",
    "version": 2
   },
   "file_extension": ".py",
   "mimetype": "text/x-python",
   "name": "python",
   "nbconvert_exporter": "python",
   "pygments_lexer": "ipython2",
   "version": "2.7.6"
  }
 },
 "nbformat": 4,
 "nbformat_minor": 5
}
=======
{
 "cells": [
  {
   "cell_type": "markdown",
   "source": [
    "## Comprehension in Python"
   ],
   "metadata": {
    "collapsed": false
   },
   "id": "c3f62eed097deedf"
  },
  {
   "cell_type": "code",
   "outputs": [
    {
     "data": {
      "text/plain": "[0, 1, 2, 3, 4, 5, 6, 7, 8, 9, 10]"
     },
     "execution_count": 1,
     "metadata": {},
     "output_type": "execute_result"
    }
   ],
   "source": [
    "# List comprehension\n",
    "l1 = [i for i in range(11)]\n",
    "l1"
   ],
   "metadata": {
    "collapsed": false,
    "ExecuteTime": {
     "end_time": "2024-05-18T02:30:47.524356Z",
     "start_time": "2024-05-18T02:30:47.496018200Z"
    }
   },
   "id": "21dfd6a1d8892b5f",
   "execution_count": 1
  },
  {
   "cell_type": "code",
   "outputs": [
    {
     "data": {
      "text/plain": "[0, 1, 2, 3, 4, 5, 6, 7, 8, 9]"
     },
     "execution_count": 2,
     "metadata": {},
     "output_type": "execute_result"
    }
   ],
   "source": [
    "[x for x in range (10)]"
   ],
   "metadata": {
    "collapsed": false,
    "ExecuteTime": {
     "end_time": "2024-05-18T02:31:24.298361900Z",
     "start_time": "2024-05-18T02:31:24.247136600Z"
    }
   },
   "id": "46a4b5ff6a49ad4e",
   "execution_count": 2
  },
  {
   "cell_type": "code",
   "outputs": [
    {
     "data": {
      "text/plain": "[1, 2, 3, 4, 5, 6, 7, 8, 9, 10]"
     },
     "execution_count": 4,
     "metadata": {},
     "output_type": "execute_result"
    }
   ],
   "source": [
    "[x for x in range(1,11)]"
   ],
   "metadata": {
    "collapsed": false,
    "ExecuteTime": {
     "end_time": "2024-05-18T02:31:56.927171700Z",
     "start_time": "2024-05-18T02:31:56.887451600Z"
    }
   },
   "id": "b2792fbe7ea3a0f0",
   "execution_count": 4
  },
  {
   "cell_type": "code",
   "outputs": [],
   "source": [
    "l2 =[x for x in range(1,11) if x%2==0] # even numbers"
   ],
   "metadata": {
    "collapsed": false,
    "ExecuteTime": {
     "end_time": "2024-05-18T02:32:56.833556700Z",
     "start_time": "2024-05-18T02:32:56.779310600Z"
    }
   },
   "id": "8abd91fba7a2540a",
   "execution_count": 5
  },
  {
   "cell_type": "code",
   "outputs": [
    {
     "data": {
      "text/plain": "[2, 4, 6, 8, 10]"
     },
     "execution_count": 6,
     "metadata": {},
     "output_type": "execute_result"
    }
   ],
   "source": [
    "l2"
   ],
   "metadata": {
    "collapsed": false,
    "ExecuteTime": {
     "end_time": "2024-05-18T02:32:59.999184100Z",
     "start_time": "2024-05-18T02:32:59.954213100Z"
    }
   },
   "id": "dd7204fac58c0a70",
   "execution_count": 6
  },
  {
   "cell_type": "code",
   "outputs": [],
   "source": [
    "l3 = [x for x in range(1,11) if x%2 != 0]"
   ],
   "metadata": {
    "collapsed": false,
    "ExecuteTime": {
     "end_time": "2024-05-18T02:34:13.980641900Z",
     "start_time": "2024-05-18T02:34:13.950315Z"
    }
   },
   "id": "5d0c72ffa9e83bc4",
   "execution_count": 10
  },
  {
   "cell_type": "code",
   "outputs": [
    {
     "data": {
      "text/plain": "[1, 3, 5, 7, 9]"
     },
     "execution_count": 11,
     "metadata": {},
     "output_type": "execute_result"
    }
   ],
   "source": [
    "l3"
   ],
   "metadata": {
    "collapsed": false,
    "ExecuteTime": {
     "end_time": "2024-05-18T02:34:14.719105200Z",
     "start_time": "2024-05-18T02:34:14.684269Z"
    }
   },
   "id": "3f407752c99f95ef",
   "execution_count": 11
  },
  {
   "cell_type": "code",
   "outputs": [],
   "source": [
    "def list(l):\n",
    "    return[x for x in range(1,l+1)if x%2!=0]\n",
    "#odd numbers\n"
   ],
   "metadata": {
    "collapsed": false,
    "ExecuteTime": {
     "end_time": "2024-05-18T02:37:29.160251Z",
     "start_time": "2024-05-18T02:37:29.147338500Z"
    }
   },
   "id": "873c830f87172b16",
   "execution_count": 21
  },
  {
   "cell_type": "code",
   "outputs": [
    {
     "data": {
      "text/plain": "[1, 3, 5, 7, 9, 11, 13, 15, 17, 19, 21, 23, 25]"
     },
     "execution_count": 22,
     "metadata": {},
     "output_type": "execute_result"
    }
   ],
   "source": [
    "list(25)"
   ],
   "metadata": {
    "collapsed": false,
    "ExecuteTime": {
     "end_time": "2024-05-18T02:37:29.678038800Z",
     "start_time": "2024-05-18T02:37:29.651877500Z"
    }
   },
   "id": "f2f746238d90338",
   "execution_count": 22
  },
  {
   "cell_type": "code",
   "outputs": [],
   "source": [
    "def list1(l):\n",
    "    even = [x for x in range(1,l+1) if x%2==0]\n",
    "    odd = [x for x in range(1,l+1) if x%2!=0]\n",
    "    return even,odd"
   ],
   "metadata": {
    "collapsed": false,
    "ExecuteTime": {
     "end_time": "2024-05-18T02:43:35.577916300Z",
     "start_time": "2024-05-18T02:43:35.553629400Z"
    }
   },
   "id": "7186126eb24be52e",
   "execution_count": 24
  },
  {
   "cell_type": "code",
   "outputs": [],
   "source": [
    "even,odd = list1(25)"
   ],
   "metadata": {
    "collapsed": false,
    "ExecuteTime": {
     "end_time": "2024-05-18T02:44:01.091567300Z",
     "start_time": "2024-05-18T02:44:01.084753Z"
    }
   },
   "id": "208001ec01ee8e5c",
   "execution_count": 27
  },
  {
   "cell_type": "code",
   "outputs": [
    {
     "data": {
      "text/plain": "[2, 4, 6, 8, 10, 12, 14, 16, 18, 20, 22, 24]"
     },
     "execution_count": 28,
     "metadata": {},
     "output_type": "execute_result"
    }
   ],
   "source": [
    "even"
   ],
   "metadata": {
    "collapsed": false,
    "ExecuteTime": {
     "end_time": "2024-05-18T02:44:05.621006600Z",
     "start_time": "2024-05-18T02:44:05.597937700Z"
    }
   },
   "id": "ebffa62487f794ea",
   "execution_count": 28
  },
  {
   "cell_type": "code",
   "outputs": [
    {
     "data": {
      "text/plain": "[1, 3, 5, 7, 9, 11, 13, 15, 17, 19, 21, 23, 25]"
     },
     "execution_count": 29,
     "metadata": {},
     "output_type": "execute_result"
    }
   ],
   "source": [
    "odd"
   ],
   "metadata": {
    "collapsed": false,
    "ExecuteTime": {
     "end_time": "2024-05-18T02:44:08.485718900Z",
     "start_time": "2024-05-18T02:44:08.461264800Z"
    }
   },
   "id": "dfc350bba5b07b7a",
   "execution_count": 29
  },
  {
   "cell_type": "code",
   "outputs": [],
   "source": [
    "#smaller number\n",
    "def smaller(l,n):\n",
    "    return [x for x in range(1,l+1) if x <n]"
   ],
   "metadata": {
    "collapsed": false,
    "ExecuteTime": {
     "end_time": "2024-05-18T02:45:51.368014400Z",
     "start_time": "2024-05-18T02:45:51.330287100Z"
    }
   },
   "id": "c618e7dff8f011db",
   "execution_count": 30
  },
  {
   "cell_type": "code",
   "outputs": [
    {
     "data": {
      "text/plain": "[1, 2, 3, 4, 5, 6, 7, 8, 9]"
     },
     "execution_count": 31,
     "metadata": {},
     "output_type": "execute_result"
    }
   ],
   "source": [
    "smaller(25,10)"
   ],
   "metadata": {
    "collapsed": false,
    "ExecuteTime": {
     "end_time": "2024-05-18T02:45:54.747126800Z",
     "start_time": "2024-05-18T02:45:54.705638300Z"
    }
   },
   "id": "22e0064610e06a8d",
   "execution_count": 31
  },
  {
   "cell_type": "code",
   "outputs": [],
   "source": [],
   "metadata": {
    "collapsed": false
   },
   "id": "24ad4931710e2d2e"
  }
 ],
 "metadata": {
  "kernelspec": {
   "display_name": "Python 3",
   "language": "python",
   "name": "python3"
  },
  "language_info": {
   "codemirror_mode": {
    "name": "ipython",
    "version": 2
   },
   "file_extension": ".py",
   "mimetype": "text/x-python",
   "name": "python",
   "nbconvert_exporter": "python",
   "pygments_lexer": "ipython2",
   "version": "2.7.6"
  }
 },
 "nbformat": 4,
 "nbformat_minor": 5
}
>>>>>>> origin/main
