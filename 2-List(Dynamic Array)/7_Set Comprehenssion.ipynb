{
 "cells": [
  {
   "cell_type": "markdown",
   "source": [
    "### Set Comprehension\n",
    "\n",
    "#### - it remove all the duplicate values\n",
    "#### - it will not maintain the order\n",
    "#### - it will not maintain the index\n",
    "#### - it will not maintain the key value pair\n",
    "#### - it will take only distinct values\n",
    "#### - it will not take the duplicate values\n",
    "#### - it will not take the duplicate keys\n",
    "#### - it will not take the duplicate index\n",
    "#### - it will not take the duplicate key value pair\n"
   ],
   "metadata": {
    "collapsed": false
   },
   "id": "e98707e180196669"
  },
  {
   "cell_type": "code",
   "outputs": [],
   "source": [
    "# Set Comprehension\n",
    "def set_comp(n):\n",
    "    s1 = {x for x in range(n) if x%2 !=0}\n",
    "    s2 = {x for x in range(n) if x % 2 == 0}"
   ],
   "metadata": {
    "collapsed": false,
    "ExecuteTime": {
     "end_time": "2024-05-18T03:02:20.974616400Z",
     "start_time": "2024-05-18T03:02:20.957315Z"
    }
   },
   "id": "3b59d9462c01440e",
   "execution_count": 10
  },
  {
   "cell_type": "code",
   "outputs": [],
   "source": [
    "set_comp(10)"
   ],
   "metadata": {
    "collapsed": false,
    "ExecuteTime": {
     "end_time": "2024-05-18T03:02:33.149132400Z",
     "start_time": "2024-05-18T03:02:33.024604900Z"
    }
   },
   "id": "169a4d14ff8dd346",
   "execution_count": 11
  },
  {
   "cell_type": "code",
   "outputs": [
    {
     "name": "stdout",
     "output_type": "stream",
     "text": [
      "{100, 70, 40, 10, 92, 50, 20, 90, 60, 30}\n",
      "{75, 93, 85, 95}\n"
     ]
    }
   ],
   "source": [
    "l = [10,20,10,20,30,40,40,50,60,70,70,75,75,85,90,92,92,93,93,95,100]\n",
    "s1 = {x for x in l if x%2==0}\n",
    "s2 = {  x for x in l if x%2!=0}\n",
    "print(s1)\n",
    "print(s2)\n"
   ],
   "metadata": {
    "collapsed": false,
    "ExecuteTime": {
     "end_time": "2024-05-18T03:07:33.651558500Z",
     "start_time": "2024-05-18T03:07:33.623921600Z"
    }
   },
   "id": "8f66eefc111ed2bf",
   "execution_count": 20
  },
  {
   "cell_type": "code",
   "outputs": [
    {
     "name": "stdout",
     "output_type": "stream",
     "text": [
      "{100, 70, 40, 10, 92, 50, 20, 90, 60, 30}\n"
     ]
    }
   ],
   "source": [
    "print(s1)"
   ],
   "metadata": {
    "collapsed": false,
    "ExecuteTime": {
     "end_time": "2024-05-18T03:05:54.427343900Z",
     "start_time": "2024-05-18T03:05:54.394754200Z"
    }
   },
   "id": "647d9154b3521396",
   "execution_count": 17
  },
  {
   "cell_type": "code",
   "outputs": [],
   "source": [],
   "metadata": {
    "collapsed": false
   },
   "id": "f6dd183e06a34f68"
  }
 ],
 "metadata": {
  "kernelspec": {
   "display_name": "Python 3",
   "language": "python",
   "name": "python3"
  },
  "language_info": {
   "codemirror_mode": {
    "name": "ipython",
    "version": 2
   },
   "file_extension": ".py",
   "mimetype": "text/x-python",
   "name": "python",
   "nbconvert_exporter": "python",
   "pygments_lexer": "ipython2",
   "version": "2.7.6"
  }
 },
 "nbformat": 4,
 "nbformat_minor": 5
}
