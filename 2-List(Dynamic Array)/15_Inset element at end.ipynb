{
 "cells": [
  {
   "cell_type": "code",
   "execution_count": 2,
   "id": "initial_id",
   "metadata": {
    "collapsed": true,
    "ExecuteTime": {
     "end_time": "2024-07-02T01:31:28.385541800Z",
     "start_time": "2024-07-02T01:31:28.355256900Z"
    }
   },
   "outputs": [
    {
     "data": {
      "text/plain": "[1, 2, 3, 4, 5, 6]"
     },
     "execution_count": 2,
     "metadata": {},
     "output_type": "execute_result"
    }
   ],
   "source": [
    "## insert element at end of list\n",
    "## time complexity: O(1)\n",
    "## space complexity: O(1)\n",
    "\n",
    "def insert_at_end(arr, x):\n",
    "    arr.append(x)\n",
    "    return arr\n",
    "insert_at_end([1,2,3,4,5], 6)"
   ]
  },
  {
   "cell_type": "code",
   "outputs": [],
   "source": [
    "def insertAtEnd(arr,size, x):\n",
    "    arr"
   ],
   "metadata": {
    "collapsed": false
   },
   "id": "cd8bd9d6f1bc301b"
  }
 ],
 "metadata": {
  "kernelspec": {
   "display_name": "Python 3",
   "language": "python",
   "name": "python3"
  },
  "language_info": {
   "codemirror_mode": {
    "name": "ipython",
    "version": 2
   },
   "file_extension": ".py",
   "mimetype": "text/x-python",
   "name": "python",
   "nbconvert_exporter": "python",
   "pygments_lexer": "ipython2",
   "version": "2.7.6"
  }
 },
 "nbformat": 4,
 "nbformat_minor": 5
}
