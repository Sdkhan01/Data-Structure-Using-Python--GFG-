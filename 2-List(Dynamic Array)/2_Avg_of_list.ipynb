{
 "cells": [
  {
   "cell_type": "markdown",
   "source": [
    "## mean of list\n"
   ],
   "metadata": {
    "collapsed": false
   },
   "id": "8da73ddd0666e492"
  },
  {
   "cell_type": "code",
   "outputs": [],
   "source": [
    "## Method 1\n",
    "\n",
    "def average(l):\n",
    "    sum = 0\n",
    "    for i in l:\n",
    "        sum=+i\n",
    "    n = len(l)\n",
    "    return sum/n"
   ],
   "metadata": {
    "collapsed": false,
    "ExecuteTime": {
     "end_time": "2024-05-16T17:34:40.355678700Z",
     "start_time": "2024-05-16T17:34:40.330730100Z"
    }
   },
   "id": "d912ccf3d56ab1cc",
   "execution_count": 8
  },
  {
   "cell_type": "code",
   "outputs": [],
   "source": [
    "l = [1,2,3,4,5]"
   ],
   "metadata": {
    "collapsed": false,
    "ExecuteTime": {
     "end_time": "2024-05-16T17:34:40.669659200Z",
     "start_time": "2024-05-16T17:34:40.639123300Z"
    }
   },
   "id": "284b8277df850872",
   "execution_count": 9
  },
  {
   "cell_type": "code",
   "outputs": [
    {
     "data": {
      "text/plain": "1.0"
     },
     "execution_count": 10,
     "metadata": {},
     "output_type": "execute_result"
    }
   ],
   "source": [
    "average(l)"
   ],
   "metadata": {
    "collapsed": false,
    "ExecuteTime": {
     "end_time": "2024-05-16T17:34:40.927221300Z",
     "start_time": "2024-05-16T17:34:40.909520600Z"
    }
   },
   "id": "d698547921d711a5",
   "execution_count": 10
  },
  {
   "cell_type": "code",
   "outputs": [],
   "source": [
    "## Method 2 \n",
    "def average(l2):\n",
    "    return sum(l2)/len(l2)\n"
   ],
   "metadata": {
    "collapsed": false,
    "ExecuteTime": {
     "end_time": "2024-05-16T17:35:49.725232700Z",
     "start_time": "2024-05-16T17:35:49.699656900Z"
    }
   },
   "id": "bff544c32286c63b",
   "execution_count": 11
  },
  {
   "cell_type": "code",
   "outputs": [],
   "source": [
    "l2 = [1,2,3,4,8]"
   ],
   "metadata": {
    "collapsed": false,
    "ExecuteTime": {
     "end_time": "2024-05-16T17:35:56.240136500Z",
     "start_time": "2024-05-16T17:35:56.225007600Z"
    }
   },
   "id": "af66ca06a8a2ba4",
   "execution_count": 12
  },
  {
   "cell_type": "code",
   "outputs": [
    {
     "data": {
      "text/plain": "3.6"
     },
     "execution_count": 13,
     "metadata": {},
     "output_type": "execute_result"
    }
   ],
   "source": [
    "average(l2)"
   ],
   "metadata": {
    "collapsed": false,
    "ExecuteTime": {
     "end_time": "2024-05-16T17:36:03.116723700Z",
     "start_time": "2024-05-16T17:36:03.089085900Z"
    }
   },
   "id": "c7103ff57cb7a85",
   "execution_count": 13
  },
  {
   "cell_type": "code",
   "outputs": [],
   "source": [
    "## Method 3\n",
    "from statistics import mean\n",
    "def average(l3):\n",
    "    return mean(l3)"
   ],
   "metadata": {
    "collapsed": false,
    "ExecuteTime": {
     "end_time": "2024-05-16T17:36:16.372005500Z",
     "start_time": "2024-05-16T17:36:16.340200600Z"
    }
   },
   "id": "834185a79d250e0",
   "execution_count": 14
  },
  {
   "cell_type": "code",
   "outputs": [],
   "source": [
    "l3 = [1,2,3,4,8]"
   ],
   "metadata": {
    "collapsed": false,
    "ExecuteTime": {
     "end_time": "2024-05-16T17:36:19.832514300Z",
     "start_time": "2024-05-16T17:36:19.813834800Z"
    }
   },
   "id": "f005ab56cbad3cd6",
   "execution_count": 15
  },
  {
   "cell_type": "code",
   "outputs": [
    {
     "data": {
      "text/plain": "3.6"
     },
     "execution_count": 16,
     "metadata": {},
     "output_type": "execute_result"
    }
   ],
   "source": [
    "average(l3)"
   ],
   "metadata": {
    "collapsed": false,
    "ExecuteTime": {
     "end_time": "2024-05-16T17:36:25.929767Z",
     "start_time": "2024-05-16T17:36:25.899570800Z"
    }
   },
   "id": "84375bad5c8b7f8e",
   "execution_count": 16
  },
  {
   "cell_type": "code",
   "outputs": [
    {
     "data": {
      "text/plain": "3.6"
     },
     "execution_count": 18,
     "metadata": {},
     "output_type": "execute_result"
    }
   ],
   "source": [
    "## Method 4\n",
    "import numpy\n",
    "numpy.mean(l3)"
   ],
   "metadata": {
    "collapsed": false,
    "ExecuteTime": {
     "end_time": "2024-05-16T17:37:11.191798800Z",
     "start_time": "2024-05-16T17:37:10.918890600Z"
    }
   },
   "id": "e04dd0270f3ad618",
   "execution_count": 18
  },
  {
   "cell_type": "code",
   "outputs": [],
   "source": [],
   "metadata": {
    "collapsed": false
   },
   "id": "d58f368fdf4c4011"
  }
 ],
 "metadata": {
  "kernelspec": {
   "display_name": "Python 3",
   "language": "python",
   "name": "python3"
  },
  "language_info": {
   "codemirror_mode": {
    "name": "ipython",
    "version": 2
   },
   "file_extension": ".py",
   "mimetype": "text/x-python",
   "name": "python",
   "nbconvert_exporter": "python",
   "pygments_lexer": "ipython2",
   "version": "2.7.6"
  }
 },
 "nbformat": 4,
 "nbformat_minor": 5
}
