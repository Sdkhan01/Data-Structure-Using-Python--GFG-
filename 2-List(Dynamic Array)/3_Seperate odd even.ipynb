{
 "cells": [
  {
   "cell_type": "markdown",
   "source": [
    "## Even Odd Seperation"
   ],
   "metadata": {
    "collapsed": false
   },
   "id": "14aa6d61fa538177"
  },
  {
   "cell_type": "code",
   "outputs": [],
   "source": [
    "def even_odd(arr):\n",
    "    even = []\n",
    "    odd = []\n",
    "    for i in arr:\n",
    "        if i%2==0:\n",
    "            even.append(i)\n",
    "        else:\n",
    "            odd.append(i)\n",
    "    return even, odd\n"
   ],
   "metadata": {
    "collapsed": false,
    "ExecuteTime": {
     "end_time": "2024-05-16T18:53:15.853935200Z",
     "start_time": "2024-05-16T18:53:15.842560700Z"
    }
   },
   "id": "f0f8c9ff998daf26",
   "execution_count": 2
  },
  {
   "cell_type": "code",
   "outputs": [],
   "source": [
    "arr = [1,2,3,4,5,6,7,8,9,10]"
   ],
   "metadata": {
    "collapsed": false,
    "ExecuteTime": {
     "end_time": "2024-05-16T18:53:18.899241500Z",
     "start_time": "2024-05-16T18:53:18.876091100Z"
    }
   },
   "id": "aefab43289e3031a",
   "execution_count": 3
  },
  {
   "cell_type": "code",
   "outputs": [
    {
     "data": {
      "text/plain": "([2, 4, 6, 8, 10], [1, 3, 5, 7, 9])"
     },
     "execution_count": 4,
     "metadata": {},
     "output_type": "execute_result"
    }
   ],
   "source": [
    "even_odd(arr)"
   ],
   "metadata": {
    "collapsed": false,
    "ExecuteTime": {
     "end_time": "2024-05-16T18:53:21.404376800Z",
     "start_time": "2024-05-16T18:53:21.351303500Z"
    }
   },
   "id": "c497048cd7d978ee",
   "execution_count": 4
  },
  {
   "cell_type": "code",
   "outputs": [],
   "source": [],
   "metadata": {
    "collapsed": false
   },
   "id": "8b150e7c207b9187"
  }
 ],
 "metadata": {
  "kernelspec": {
   "display_name": "Python 3",
   "language": "python",
   "name": "python3"
  },
  "language_info": {
   "codemirror_mode": {
    "name": "ipython",
    "version": 2
   },
   "file_extension": ".py",
   "mimetype": "text/x-python",
   "name": "python",
   "nbconvert_exporter": "python",
   "pygments_lexer": "ipython2",
   "version": "2.7.6"
  }
 },
 "nbformat": 4,
 "nbformat_minor": 5
}
