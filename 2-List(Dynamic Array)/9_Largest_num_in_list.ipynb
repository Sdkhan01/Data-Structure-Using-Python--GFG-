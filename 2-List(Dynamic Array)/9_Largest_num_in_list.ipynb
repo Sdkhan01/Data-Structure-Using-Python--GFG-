{
 "cells": [
  {
   "cell_type": "code",
   "execution_count": 9,
   "id": "initial_id",
   "metadata": {
    "collapsed": true,
    "ExecuteTime": {
     "end_time": "2024-05-18T03:53:09.710075700Z",
     "start_time": "2024-05-18T03:53:09.690078700Z"
    }
   },
   "outputs": [
    {
     "data": {
      "text/plain": "20"
     },
     "execution_count": 9,
     "metadata": {},
     "output_type": "execute_result"
    }
   ],
   "source": [
    "### Largest element in a list\n",
    "#lst = [10,5,20,8]\n",
    "def largest_num_in_list(lst):\n",
    "    largest = lst[0]\n",
    "    for i in lst:\n",
    "        if i > largest:\n",
    "            largest = i\n",
    "    return largest\n",
    "largest_num_in_list(lst)\n",
    "\n",
    "## time complexity is O(n)"
   ]
  },
  {
   "cell_type": "code",
   "outputs": [],
   "source": [
    "### Largest element in a list\n",
    "def getmax(l):\n",
    "    for x in l:\n",
    "        for y in l:\n",
    "            if y> x:\n",
    "                break\n",
    "        else:\n",
    "            return x\n",
    "    return None\n",
    "\n",
    "\n",
    "\n",
    "\n",
    "## time complexity is O(n^2)"
   ],
   "metadata": {
    "collapsed": false,
    "ExecuteTime": {
     "end_time": "2024-05-18T03:56:51.464404900Z",
     "start_time": "2024-05-18T03:56:51.448698200Z"
    }
   },
   "id": "d80dfc3c07740de8",
   "execution_count": 10
  },
  {
   "cell_type": "code",
   "outputs": [
    {
     "data": {
      "text/plain": "20"
     },
     "execution_count": 11,
     "metadata": {},
     "output_type": "execute_result"
    }
   ],
   "source": [
    "getmax([10,5,20,8])"
   ],
   "metadata": {
    "collapsed": false,
    "ExecuteTime": {
     "end_time": "2024-05-18T03:57:01.010125200Z",
     "start_time": "2024-05-18T03:57:00.990158400Z"
    }
   },
   "id": "59312b8f8900a31d",
   "execution_count": 11
  },
  {
   "cell_type": "code",
   "outputs": [
    {
     "data": {
      "text/plain": "40"
     },
     "execution_count": 12,
     "metadata": {},
     "output_type": "execute_result"
    }
   ],
   "source": [
    "getmax([10,5,20,8,20,20,40,40])"
   ],
   "metadata": {
    "collapsed": false,
    "ExecuteTime": {
     "end_time": "2024-05-18T03:57:13.121963700Z",
     "start_time": "2024-05-18T03:57:13.093915400Z"
    }
   },
   "id": "e6bc239e984e1919",
   "execution_count": 12
  },
  {
   "cell_type": "code",
   "outputs": [],
   "source": [
    "## Efficient way to find the largest element in a list\n",
    "\n",
    "def largest_num_in_list(l1):\n",
    "    largest = l1[0]\n",
    "    for i in l1:\n",
    "        if i > largest:\n",
    "            largest = i\n",
    "    return largest\n",
    "## time complexity is O(n)"
   ],
   "metadata": {
    "collapsed": false,
    "ExecuteTime": {
     "end_time": "2024-05-18T03:58:45.379253Z",
     "start_time": "2024-05-18T03:58:45.370738800Z"
    }
   },
   "id": "4d45aaff724cdb61",
   "execution_count": 15
  },
  {
   "cell_type": "code",
   "outputs": [
    {
     "data": {
      "text/plain": "40"
     },
     "execution_count": 16,
     "metadata": {},
     "output_type": "execute_result"
    }
   ],
   "source": [
    "largest_num_in_list([10,5,20,8,20,20,40,40])"
   ],
   "metadata": {
    "collapsed": false,
    "ExecuteTime": {
     "end_time": "2024-05-18T03:58:46.024659400Z",
     "start_time": "2024-05-18T03:58:46.008309Z"
    }
   },
   "id": "eba2f4586feb4c30",
   "execution_count": 16
  },
  {
   "cell_type": "code",
   "outputs": [],
   "source": [
    "def max_num(l1):\n",
    "    if not l1:\n",
    "        return None\n",
    "    else:\n",
    "        res = l1[0]\n",
    "        for i in range(1,len(l1)):\n",
    "            if l1[i] > res:\n",
    "                res = l1[i]\n",
    "        return res\n",
    "    "
   ],
   "metadata": {
    "collapsed": false,
    "ExecuteTime": {
     "end_time": "2024-05-18T04:10:44.141933500Z",
     "start_time": "2024-05-18T04:10:44.131279800Z"
    }
   },
   "id": "7b0f0548184b4e11",
   "execution_count": 17
  },
  {
   "cell_type": "code",
   "outputs": [
    {
     "data": {
      "text/plain": "40"
     },
     "execution_count": 18,
     "metadata": {},
     "output_type": "execute_result"
    }
   ],
   "source": [
    "max_num([10,5,20,8,20,20,40,40])"
   ],
   "metadata": {
    "collapsed": false,
    "ExecuteTime": {
     "end_time": "2024-05-18T04:10:47.234820800Z",
     "start_time": "2024-05-18T04:10:47.190536500Z"
    }
   },
   "id": "88dd36a61abc1b32",
   "execution_count": 18
  },
  {
   "cell_type": "code",
   "outputs": [
    {
     "data": {
      "text/plain": "100"
     },
     "execution_count": 19,
     "metadata": {},
     "output_type": "execute_result"
    }
   ],
   "source": [
    "max_num([10,5,20,8,20,20,40,40,100])"
   ],
   "metadata": {
    "collapsed": false,
    "ExecuteTime": {
     "end_time": "2024-05-18T04:10:50.542499900Z",
     "start_time": "2024-05-18T04:10:50.512747700Z"
    }
   },
   "id": "1a87844832baa37e",
   "execution_count": 19
  },
  {
   "cell_type": "code",
   "outputs": [
    {
     "data": {
      "text/plain": "1000"
     },
     "execution_count": 20,
     "metadata": {},
     "output_type": "execute_result"
    }
   ],
   "source": [
    "max_num([10,5,20,8,20,20,40,40,100,1000])"
   ],
   "metadata": {
    "collapsed": false,
    "ExecuteTime": {
     "end_time": "2024-05-18T04:10:57.673882700Z",
     "start_time": "2024-05-18T04:10:57.641144300Z"
    }
   },
   "id": "855b8ac25ff8d6cf",
   "execution_count": 20
  },
  {
   "cell_type": "code",
   "outputs": [
    {
     "data": {
      "text/plain": "10000"
     },
     "execution_count": 22,
     "metadata": {},
     "output_type": "execute_result"
    }
   ],
   "source": [
    "max_num([10,5,20,8,20,20,40,40,100,1000,10000])"
   ],
   "metadata": {
    "collapsed": false,
    "ExecuteTime": {
     "end_time": "2024-05-18T04:12:00.531041600Z",
     "start_time": "2024-05-18T04:12:00.499534700Z"
    }
   },
   "id": "a296d03340f1653b",
   "execution_count": 22
  },
  {
   "cell_type": "code",
   "outputs": [],
   "source": [],
   "metadata": {
    "collapsed": false
   },
   "id": "637371c536c1f5b0"
  }
 ],
 "metadata": {
  "kernelspec": {
   "display_name": "Python 3",
   "language": "python",
   "name": "python3"
  },
  "language_info": {
   "codemirror_mode": {
    "name": "ipython",
    "version": 2
   },
   "file_extension": ".py",
   "mimetype": "text/x-python",
   "name": "python",
   "nbconvert_exporter": "python",
   "pygments_lexer": "ipython2",
   "version": "2.7.6"
  }
 },
 "nbformat": 4,
 "nbformat_minor": 5
}
