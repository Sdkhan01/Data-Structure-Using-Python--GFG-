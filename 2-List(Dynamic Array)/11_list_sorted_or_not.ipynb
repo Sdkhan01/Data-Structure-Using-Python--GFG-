{
 "cells": [
  {
   "cell_type": "markdown",
   "source": [
    "### Check if a list is sorted or not"
   ],
   "metadata": {
    "collapsed": false
   },
   "id": "3682a4056b952a50"
  },
  {
   "cell_type": "code",
   "outputs": [],
   "source": [
    "def is_sorted(l):\n",
    "    i = 1\n",
    "    while i <len(l):\n",
    "        if l[i] < l[i-1]:\n",
    "            return False\n",
    "        i += 1\n",
    "    return True\n",
    "\n",
    "#time complexity is O(n)\n",
    "#space complexity is O(1)\n",
    "\n",
    " \n",
    " "
   ],
   "metadata": {
    "collapsed": false,
    "ExecuteTime": {
     "end_time": "2024-05-19T10:45:50.576416300Z",
     "start_time": "2024-05-19T10:45:50.555546400Z"
    }
   },
   "id": "62e313d147b233ca",
   "execution_count": 1
  },
  {
   "cell_type": "code",
   "outputs": [
    {
     "name": "stdout",
     "output_type": "stream",
     "text": [
      "True\n"
     ]
    }
   ],
   "source": [
    "print(is_sorted([1,2,3,4,5]))"
   ],
   "metadata": {
    "collapsed": false,
    "ExecuteTime": {
     "end_time": "2024-05-19T10:45:50.626460600Z",
     "start_time": "2024-05-19T10:45:50.576416300Z"
    }
   },
   "id": "ea8b72be943327aa",
   "execution_count": 2
  },
  {
   "cell_type": "code",
   "outputs": [],
   "source": [
    "## usiing   issorted method\n",
    "\n",
    "def is_sorted(l):\n",
    "    sl = sorted(l)\n",
    "    if sl == l:\n",
    "        return True\n",
    "    else:\n",
    "        return False\n",
    "#time complexity is O(nlogn) + O(n) = O(nlogn)\n",
    "#O(nlogn) is slower than O(n)\n",
    "#space complexity is O(n)"
   ],
   "metadata": {
    "collapsed": false
   },
   "id": "ab1a8a0005d6d4c5"
  }
 ],
 "metadata": {
  "kernelspec": {
   "display_name": "Python 3",
   "language": "python",
   "name": "python3"
  },
  "language_info": {
   "codemirror_mode": {
    "name": "ipython",
    "version": 2
   },
   "file_extension": ".py",
   "mimetype": "text/x-python",
   "name": "python",
   "nbconvert_exporter": "python",
   "pygments_lexer": "ipython2",
   "version": "2.7.6"
  }
 },
 "nbformat": 4,
 "nbformat_minor": 5
}
