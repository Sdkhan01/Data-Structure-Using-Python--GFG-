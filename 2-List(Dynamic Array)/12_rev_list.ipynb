{
 "cells": [
  {
   "cell_type": "markdown",
   "source": [
    "## : Reverse List"
   ],
   "metadata": {
    "collapsed": false
   },
   "id": "666c3621f971f87b"
  },
  {
   "cell_type": "code",
   "outputs": [],
   "source": [
    "## Function to reverse a list\n",
    "def is_sorted(l):\n",
    "    new = l[::-1]\n",
    "    return new\n",
    "## time complexity is O(n)\n",
    "## space complexity is O(n)"
   ],
   "metadata": {
    "collapsed": false,
    "ExecuteTime": {
     "end_time": "2024-06-09T00:30:41.283998100Z",
     "start_time": "2024-06-09T00:30:41.262024Z"
    }
   },
   "id": "9fc80327539bc0e1",
   "execution_count": 1
  },
  {
   "cell_type": "code",
   "outputs": [
    {
     "data": {
      "text/plain": "[5, 4, 3, 2, 1]"
     },
     "execution_count": 2,
     "metadata": {},
     "output_type": "execute_result"
    }
   ],
   "source": [
    "is_sorted([1,2,3,4,5])"
   ],
   "metadata": {
    "collapsed": false,
    "ExecuteTime": {
     "end_time": "2024-06-09T00:30:41.286965500Z",
     "start_time": "2024-06-09T00:30:41.277985700Z"
    }
   },
   "id": "53161db189b0501f",
   "execution_count": 2
  },
  {
   "cell_type": "code",
   "outputs": [
    {
     "name": "stdout",
     "output_type": "stream",
     "text": [
      "[9, 8, 7, 6, 5, 3, 1]\n"
     ]
    }
   ],
   "source": [
    "l = [1,3,5,6,7,8,9]\n",
    "l.reverse()\n",
    "print(l)"
   ],
   "metadata": {
    "collapsed": false,
    "ExecuteTime": {
     "end_time": "2024-06-09T00:35:49.954518900Z",
     "start_time": "2024-06-09T00:35:49.942545800Z"
    }
   },
   "id": "2445dadab9ecece9",
   "execution_count": 5
  },
  {
   "cell_type": "code",
   "outputs": [
    {
     "data": {
      "text/plain": "[5, 4, 2, 4, 5]"
     },
     "execution_count": 10,
     "metadata": {},
     "output_type": "execute_result"
    }
   ],
   "source": [
    "def rev(lst):\n",
    "    s = 0\n",
    "    e = len(lst) - 1\n",
    "    while s< e:\n",
    "        lst[s],lst[2] = lst[e],lst[s]\n",
    "        s = s+1\n",
    "        e = e-1\n",
    "    return lst\n",
    "rev([1,2,3,4,5])\n",
    "\n",
    "##time complexity is O(n)\n",
    "##space complexity is O(1)"
   ],
   "metadata": {
    "collapsed": false,
    "ExecuteTime": {
     "end_time": "2024-06-09T00:54:59.919673700Z",
     "start_time": "2024-06-09T00:54:59.888771700Z"
    }
   },
   "id": "fbffb6f646de2b35",
   "execution_count": 10
  },
  {
   "cell_type": "code",
   "outputs": [],
   "source": [],
   "metadata": {
    "collapsed": false
   },
   "id": "486cb7c0c4773f50"
  }
 ],
 "metadata": {
  "kernelspec": {
   "display_name": "Python 3",
   "language": "python",
   "name": "python3"
  },
  "language_info": {
   "codemirror_mode": {
    "name": "ipython",
    "version": 2
   },
   "file_extension": ".py",
   "mimetype": "text/x-python",
   "name": "python",
   "nbconvert_exporter": "python",
   "pygments_lexer": "ipython2",
   "version": "2.7.6"
  }
 },
 "nbformat": 4,
 "nbformat_minor": 5
}
