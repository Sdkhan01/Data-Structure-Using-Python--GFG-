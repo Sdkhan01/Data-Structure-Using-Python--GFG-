{
 "cells": [
  {
   "cell_type": "markdown",
   "source": [
    "## Dictionary Comprehension\n",
    "\n",
    "#### - Dictionary Comprehension is a concise way to create dictionaries. It is similar to list comprehension but here we use curly braces {} instead of square brackets [].\n",
    "#### - Dictionary comprehension consists of an expression pair (key: value) followed by a for statement inside curly braces {}.\n",
    "#### - it is a way to construct a dictionary in a single line of code.\n",
    "#### - Dictionary comprehension is a powerful concept and can be used to simplify the code and make it more readable.\n",
    "#### - it contain duplicate keys, the last key is used to assign the value.\n",
    "#### - it take care of items that are not hashable.\n",
    "#### - it is faster than for loop.\n",
    "#### - it is more readable than for loop.\n",
    "#### - it is more concise than for loop.\n",
    "#### - it is more efficient than for loop.\n",
    "#### - in comparison to while loop, it is more readable and concise."
   ],
   "metadata": {
    "collapsed": false
   },
   "id": "1ec54e0d13fd0ae4"
  },
  {
   "cell_type": "code",
   "outputs": [
    {
     "name": "stdout",
     "output_type": "stream",
     "text": [
      "{1: 1, 3: 27, 4: 64, 2: 8, 5: 125}\n"
     ]
    }
   ],
   "source": [
    "# Example 1: Dictionary Comprehension\n",
    "\n",
    "l1 = [1,3,4,2,5]\n",
    "d1 = {x:x**3 for x in l1}\n",
    "print(d1)"
   ],
   "metadata": {
    "collapsed": false,
    "ExecuteTime": {
     "end_time": "2024-05-18T03:19:19.927301900Z",
     "start_time": "2024-05-18T03:19:19.909464Z"
    }
   },
   "id": "7732a43fb89fe138",
   "execution_count": 5
  },
  {
   "cell_type": "code",
   "outputs": [
    {
     "name": "stdout",
     "output_type": "stream",
     "text": [
      "{1: 'ID1', 2: 'ID2', 3: 'ID3', 4: 'ID4', 5: 'ID5'}\n"
     ]
    }
   ],
   "source": [
    "d2 = {x: f\"ID{x}\" for x in range(1,6)} # x is key and f\"ID{x}\" is value\n",
    "print(d2)\n",
    "#here f\"ID{x}\" is a f-string which is used to format the string.\n",
    "#working of id(x) = ID1, ID2, ID3, ID4, ID5 with every iteration."
   ],
   "metadata": {
    "collapsed": false,
    "ExecuteTime": {
     "end_time": "2024-05-18T03:22:36.065456200Z",
     "start_time": "2024-05-18T03:22:36.051347600Z"
    }
   },
   "id": "9f883270b4e71426",
   "execution_count": 7
  },
  {
   "cell_type": "code",
   "outputs": [],
   "source": [
    "l2 = [101, 103, 102]\n",
    "l3 = ['gfg','ide','coursed']\n",
    "d3 = {l2[i]: l3[i] for i in range(len(l2))}"
   ],
   "metadata": {
    "collapsed": false,
    "ExecuteTime": {
     "end_time": "2024-05-18T03:25:01.692911700Z",
     "start_time": "2024-05-18T03:25:01.682039100Z"
    }
   },
   "id": "73f8e72cf66230f9",
   "execution_count": 8
  },
  {
   "cell_type": "code",
   "outputs": [
    {
     "name": "stdout",
     "output_type": "stream",
     "text": [
      "{101: 'gfg', 103: 'ide', 102: 'coursed'}\n"
     ]
    }
   ],
   "source": [
    "print(d3)"
   ],
   "metadata": {
    "collapsed": false,
    "ExecuteTime": {
     "end_time": "2024-05-18T03:25:06.371222Z",
     "start_time": "2024-05-18T03:25:06.330493Z"
    }
   },
   "id": "30a25ad786171505",
   "execution_count": 9
  },
  {
   "cell_type": "code",
   "outputs": [],
   "source": [
    "# same example with zip function # zip function is used to combine two lists.\n",
    "#It is preffered method\n",
    "l2 = [101, 103, 102]\n",
    "l3 = ['gfg','ide','coursed']\n",
    "d3 = dict(zip(l2,l3))"
   ],
   "metadata": {
    "collapsed": false,
    "ExecuteTime": {
     "end_time": "2024-05-18T03:28:17.464380100Z",
     "start_time": "2024-05-18T03:28:17.457858100Z"
    }
   },
   "id": "7582940b71330518",
   "execution_count": 12
  },
  {
   "cell_type": "code",
   "outputs": [
    {
     "name": "stdout",
     "output_type": "stream",
     "text": [
      "{101: 'gfg', 103: 'ide', 102: 'coursed'}\n"
     ]
    }
   ],
   "source": [
    "print(d3)"
   ],
   "metadata": {
    "collapsed": false,
    "ExecuteTime": {
     "end_time": "2024-05-18T03:28:19.050938500Z",
     "start_time": "2024-05-18T03:28:19.023439800Z"
    }
   },
   "id": "60a97d840c3517a9",
   "execution_count": 13
  },
  {
   "cell_type": "code",
   "outputs": [],
   "source": [
    "# Example 2: Dictionary Comprehension with if else\n",
    "#d4 = {'even' if i%2==0 else 'odd':i for i in range(1,11)}\n",
    "d5 = {i:('even' if i%2==0 else 'odd') for i in range(1,11)} "
   ],
   "metadata": {
    "collapsed": false,
    "ExecuteTime": {
     "end_time": "2024-05-18T03:30:45.986901300Z",
     "start_time": "2024-05-18T03:30:45.971201300Z"
    }
   },
   "id": "bd0537a00a8d2c0f",
   "execution_count": 15
  },
  {
   "cell_type": "code",
   "outputs": [
    {
     "name": "stdout",
     "output_type": "stream",
     "text": [
      "{1: 'odd', 2: 'even', 3: 'odd', 4: 'even', 5: 'odd', 6: 'even', 7: 'odd', 8: 'even', 9: 'odd', 10: 'even'}\n"
     ]
    }
   ],
   "source": [
    "print(d5)"
   ],
   "metadata": {
    "collapsed": false,
    "ExecuteTime": {
     "end_time": "2024-05-18T03:31:20.933405300Z",
     "start_time": "2024-05-18T03:31:20.915901300Z"
    }
   },
   "id": "44ffd327ac686cf",
   "execution_count": 19
  },
  {
   "cell_type": "code",
   "outputs": [],
   "source": [
    "## Inverting a dictionary(key becomes value and value becomes key)\n",
    "\n",
    "d1 = {'a':1, 'b':2, 'c':3, 'd':4}\n",
    "d2 = {v:k for k,v in d1.items()}"
   ],
   "metadata": {
    "collapsed": false,
    "ExecuteTime": {
     "end_time": "2024-05-18T03:34:32.378221200Z",
     "start_time": "2024-05-18T03:34:32.351672700Z"
    }
   },
   "id": "7a3cef8049198f03",
   "execution_count": 20
  },
  {
   "cell_type": "code",
   "outputs": [
    {
     "name": "stdout",
     "output_type": "stream",
     "text": [
      "{1: 'a', 2: 'b', 3: 'c', 4: 'd'}\n"
     ]
    }
   ],
   "source": [
    "print(d2)"
   ],
   "metadata": {
    "collapsed": false,
    "ExecuteTime": {
     "end_time": "2024-05-18T03:34:34.937049500Z",
     "start_time": "2024-05-18T03:34:34.897290200Z"
    }
   },
   "id": "5539294ad096fb53",
   "execution_count": 21
  },
  {
   "cell_type": "code",
   "outputs": [],
   "source": [
    "d3 = {101:'gfg', 103:'ide', 102:'course'}\n",
    "d4 = {v : k for (k,v) in d3.items()}"
   ],
   "metadata": {
    "collapsed": false,
    "ExecuteTime": {
     "end_time": "2024-05-18T03:36:21.916839600Z",
     "start_time": "2024-05-18T03:36:21.903291300Z"
    }
   },
   "id": "e8337d4472f4f4fd",
   "execution_count": 22
  },
  {
   "cell_type": "code",
   "outputs": [
    {
     "name": "stdout",
     "output_type": "stream",
     "text": [
      "{'gfg': 101, 'ide': 103, 'course': 102}\n"
     ]
    }
   ],
   "source": [
    "print(d4)"
   ],
   "metadata": {
    "collapsed": false,
    "ExecuteTime": {
     "end_time": "2024-05-18T03:36:24.283652200Z",
     "start_time": "2024-05-18T03:36:24.263032100Z"
    }
   },
   "id": "f8be66260c810f46",
   "execution_count": 23
  },
  {
   "cell_type": "code",
   "outputs": [
    {
     "name": "stdout",
     "output_type": "stream",
     "text": [
      "1\n",
      "2\n",
      "3\n",
      "4\n"
     ]
    }
   ],
   "source": [
    "# Example 4: looping through a dictionary\n",
    "d1 = {1:'a', 2:'b', 3:'c', 4:'d'}\n",
    "for k in d1:\n",
    "    print(k)\n",
    "    "
   ],
   "metadata": {
    "collapsed": false,
    "ExecuteTime": {
     "end_time": "2024-05-18T03:37:16.431262500Z",
     "start_time": "2024-05-18T03:37:16.408231900Z"
    }
   },
   "id": "56b41d006af540d6",
   "execution_count": 24
  },
  {
   "cell_type": "code",
   "outputs": [
    {
     "name": "stdout",
     "output_type": "stream",
     "text": [
      "1\n",
      "2\n",
      "3\n",
      "4\n"
     ]
    }
   ],
   "source": [
    "for k in d1.keys():\n",
    "    print(k)"
   ],
   "metadata": {
    "collapsed": false,
    "ExecuteTime": {
     "end_time": "2024-05-18T03:37:31.906108900Z",
     "start_time": "2024-05-18T03:37:31.874803600Z"
    }
   },
   "id": "fba946f07307c46a",
   "execution_count": 25
  },
  {
   "cell_type": "code",
   "outputs": [
    {
     "name": "stdout",
     "output_type": "stream",
     "text": [
      "a\n",
      "b\n",
      "c\n",
      "d\n"
     ]
    }
   ],
   "source": [
    "for v in d1.values():\n",
    "    print(v)"
   ],
   "metadata": {
    "collapsed": false,
    "ExecuteTime": {
     "end_time": "2024-05-18T03:37:38.708612500Z",
     "start_time": "2024-05-18T03:37:38.678983900Z"
    }
   },
   "id": "52077c253214fe00",
   "execution_count": 26
  },
  {
   "cell_type": "code",
   "outputs": [
    {
     "name": "stdout",
     "output_type": "stream",
     "text": [
      "1 a\n",
      "2 b\n",
      "3 c\n",
      "4 d\n"
     ]
    }
   ],
   "source": [
    "for k,v in d1.items():\n",
    "    print(k,v)"
   ],
   "metadata": {
    "collapsed": false,
    "ExecuteTime": {
     "end_time": "2024-05-18T03:37:46.226084900Z",
     "start_time": "2024-05-18T03:37:46.187347700Z"
    }
   },
   "id": "4224701e4b4e1ccc",
   "execution_count": 27
  },
  {
   "cell_type": "code",
   "outputs": [],
   "source": [],
   "metadata": {
    "collapsed": false
   },
   "id": "a1953916c2deeda1"
  }
 ],
 "metadata": {
  "kernelspec": {
   "display_name": "Python 3",
   "language": "python",
   "name": "python3"
  },
  "language_info": {
   "codemirror_mode": {
    "name": "ipython",
    "version": 2
   },
   "file_extension": ".py",
   "mimetype": "text/x-python",
   "name": "python",
   "nbconvert_exporter": "python",
   "pygments_lexer": "ipython2",
   "version": "2.7.6"
  }
 },
 "nbformat": 4,
 "nbformat_minor": 5
}
